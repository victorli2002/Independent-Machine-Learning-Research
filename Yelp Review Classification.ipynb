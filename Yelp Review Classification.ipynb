{
 "cells": [
  {
   "cell_type": "code",
   "execution_count": null,
   "metadata": {},
   "outputs": [],
   "source": []
  },
  {
   "cell_type": "markdown",
   "metadata": {},
   "source": [
    "This notebook serves as an initial exploration into NLP (specifically sentiment analysis). We will examine yelp reviews to try to train various neural networks to predict the amount of stars each review will have.\n",
    "\n",
    "We map scale the number of stars down to a 0 - 1 scale, then train the model to predict a decimal number in that range. Then, we assign that number to a discrete integer from 1-5 (to match the stars) based on what percentile it is closest to in the training set. We make the training set evenly balanced between each numbe rof stars. For example, an \"average\" prediction would be classified as a 3, whereas a predicition that is 10th perentile among the training data would be classified as a 1. "
   ]
  },
  {
   "cell_type": "code",
   "execution_count": 1,
   "metadata": {},
   "outputs": [],
   "source": [
    "import warnings\n",
    "warnings.filterwarnings('ignore')"
   ]
  },
  {
   "cell_type": "code",
   "execution_count": 2,
   "metadata": {},
   "outputs": [],
   "source": [
    "import seaborn as sns\n",
    "from sklearn.preprocessing import OneHotEncoder\n",
    "from keras.losses import CategoricalCrossentropy\n",
    "from sklearn.metrics import precision_score, accuracy_score, recall_score, f1_score, roc_auc_score"
   ]
  },
  {
   "cell_type": "code",
   "execution_count": 3,
   "metadata": {},
   "outputs": [],
   "source": [
    "from keras.preprocessing.text import Tokenizer\n",
    "from keras.preprocessing.sequence import pad_sequences\n",
    "import numpy as np\n",
    "import pandas as pd\n",
    "import matplotlib.pyplot as plt\n",
    "%matplotlib inline \n",
    "from keras.models import Sequential\n",
    "from keras.layers import LSTM\n",
    "from keras.layers import Embedding, Conv1D,MaxPooling1D, Flatten, Dense,Dropout,LSTM,Bidirectional\n",
    "#from keras.optimizers import RMSprop"
   ]
  },
  {
   "cell_type": "markdown",
   "metadata": {},
   "source": [
    "### Load Data"
   ]
  },
  {
   "cell_type": "code",
   "execution_count": 4,
   "metadata": {},
   "outputs": [],
   "source": [
    "data = pd.read_csv('yelp.csv')"
   ]
  },
  {
   "cell_type": "code",
   "execution_count": 5,
   "metadata": {},
   "outputs": [],
   "source": [
    "data = data.dropna()\n",
    "text = data['text'].tolist()\n",
    "binstars = data['stars'].tolist()\n",
    "binstars = [int(star) for star in binstars]"
   ]
  },
  {
   "cell_type": "code",
   "execution_count": 6,
   "metadata": {},
   "outputs": [
    {
     "data": {
      "text/plain": [
       "<AxesSubplot:ylabel='Count'>"
      ]
     },
     "execution_count": 6,
     "metadata": {},
     "output_type": "execute_result"
    },
    {
     "data": {
      "image/png": "[encoded data removed]",
      "text/plain": [
       "<Figure size 432x288 with 1 Axes>"
      ]
     },
     "metadata": {
      "needs_background": "light"
     },
     "output_type": "display_data"
    }
   ],
   "source": [
    "sns.histplot(x = binstars)"
   ]
  },
  {
   "cell_type": "markdown",
   "metadata": {},
   "source": [
    "Note that these yelp reviews are heavily skewed -- more \"accurate\" models would be heavily biased toward 4s and 5s. However, our goal is to emulate learning/interpretation as best as possble. Thus, we will still train our data on a balanced dataset."
   ]
  },
  {
   "cell_type": "markdown",
   "metadata": {},
   "source": [
    "### Make a balanced dataset of reviews of different stars: 20% for each star count"
   ]
  },
  {
   "cell_type": "code",
   "execution_count": 7,
   "metadata": {},
   "outputs": [],
   "source": [
    "balanced_texts = []  \n",
    "balanced_labels = []  \n",
    "all_texts = []\n",
    "all_labels = []\n",
    "balanced = []\n",
    "count = 500  \n",
    "stars = [0, 0, 0, 0, 0]\n",
    "for i in range(len(text)):\n",
    "    sentiment = binstars[i]\n",
    "    if stars[sentiment-1] < count:\n",
    "        balanced_texts.append(text[i])\n",
    "        balanced_labels.append(binstars[i])\n",
    "        balanced.append(i)\n",
    "        stars[sentiment-1] += 1\n",
    "    all_texts.append(text[i])\n",
    "    all_labels.append(binstars[i])"
   ]
  },
  {
   "cell_type": "code",
   "execution_count": 8,
   "metadata": {},
   "outputs": [],
   "source": [
    "# cut reviews after 200 words\n",
    "maxlen = 200 \n",
    "# Number of words to consider as features\n",
    "# restrict the yelp reviews to the top 1000 most common words\n",
    "max_words = 10000  "
   ]
  },
  {
   "cell_type": "code",
   "execution_count": 9,
   "metadata": {},
   "outputs": [
    {
     "name": "stdout",
     "output_type": "stream",
     "text": [
      "260\n",
      "15\n"
     ]
    }
   ],
   "source": [
    "# create a tokenizer and it will ignore all except the 1000 most-common words\n",
    "tokenizer = Tokenizer(num_words = max_words)\n",
    "# use tokenizer to calculate the frequency of each word in dataset.\n",
    "tokenizer.fit_on_texts(all_texts)\n",
    "# convert all of reviews to lists of integers\n",
    "sequences = tokenizer.texts_to_sequences(all_texts)\n",
    "print(len(sequences[1]))\n",
    "print(len(sequences[2]))\n",
    "\n",
    "\n",
    "# use pad_sequence to make traning samples the same size, fill with zeros\n",
    "data_input = pad_sequences(sequences, maxlen = maxlen)\n",
    "labels = np.asarray(all_labels)"
   ]
  },
  {
   "cell_type": "markdown",
   "metadata": {},
   "source": [
    "### train and test (validation) split\n",
    "We use 2500 training data (all balanced)\n",
    "Our test data includes all 10000 data points (unbalanced)"
   ]
  },
  {
   "cell_type": "code",
   "execution_count": 10,
   "metadata": {},
   "outputs": [
    {
     "name": "stdout",
     "output_type": "stream",
     "text": [
      " x_train (2500, 200)\n",
      " y_train (2500,)\n"
     ]
    }
   ],
   "source": [
    "indices = np.arange(data_input.shape[0])\n",
    "data_input = data_input[indices]\n",
    "labels = labels[indices]\n",
    "\n",
    "\n",
    "x_train = np.asarray(data_input) [balanced]\n",
    "y_train = np.asarray(labels) [balanced]\n",
    "x_test = np.asarray(data_input)\n",
    "y_test = np.asarray(labels)\n",
    "print(\" x_train\",x_train.shape)\n",
    "print(\" y_train\",y_train.shape)\n",
    "\n",
    "y_train = y_train / 5\n",
    "y_test = y_test / 5"
   ]
  },
  {
   "cell_type": "markdown",
   "metadata": {},
   "source": [
    " ### Model 1 - Using Embedding layer and LSTM"
   ]
  },
  {
   "cell_type": "markdown",
   "metadata": {},
   "source": [
    "We start off with a simple Embedding + LSTM (long short-term memory) neural netowrk.\n",
    "For all of our models, we will use mean_squared_error for both accuracy and loss for the initial prediction."
   ]
  },
  {
   "cell_type": "code",
   "execution_count": 11,
   "metadata": {},
   "outputs": [
    {
     "name": "stdout",
     "output_type": "stream",
     "text": [
      "Model: \"sequential\"\n",
      "_________________________________________________________________\n",
      " Layer (type)                Output Shape              Param #   \n",
      "=================================================================\n",
      " embedding (Embedding)       (None, 200, 64)           640000    \n",
      "                                                                 \n",
      " lstm (LSTM)                 (None, 64)                33024     \n",
      "                                                                 \n",
      " dense (Dense)               (None, 1)                 65        \n",
      "                                                                 \n",
      "=================================================================\n",
      "Total params: 673,089\n",
      "Trainable params: 673,089\n",
      "Non-trainable params: 0\n",
      "_________________________________________________________________\n"
     ]
    }
   ],
   "source": [
    "max_words = 10000 \n",
    "maxlen = 200\n",
    "model = Sequential()\n",
    "model.add(Embedding(max_words, 64,input_length = maxlen))\n",
    "model.add(LSTM(64,dropout=0.2, recurrent_dropout=0.2))\n",
    "model.add(Dense(1, activation='sigmoid'))\n",
    "\n",
    "model.compile(optimizer='adam',\n",
    "              loss='mean_squared_error',\n",
    "              metrics=['mean_squared_error'])\n",
    "model.summary()"
   ]
  },
  {
   "cell_type": "code",
   "execution_count": 12,
   "metadata": {},
   "outputs": [
    {
     "name": "stdout",
     "output_type": "stream",
     "text": [
      "Epoch 1/5\n",
      "16/16 [==============================] - 16s 627ms/step - loss: 0.0876 - mean_squared_error: 0.0876 - val_loss: 0.1701 - val_mean_squared_error: 0.1701\n",
      "Epoch 2/5\n",
      "16/16 [==============================] - 9s 562ms/step - loss: 0.0673 - mean_squared_error: 0.0673 - val_loss: 0.1457 - val_mean_squared_error: 0.1457\n",
      "Epoch 3/5\n",
      "16/16 [==============================] - 9s 563ms/step - loss: 0.0603 - mean_squared_error: 0.0603 - val_loss: 0.1242 - val_mean_squared_error: 0.1242\n",
      "Epoch 4/5\n",
      "16/16 [==============================] - 10s 624ms/step - loss: 0.0440 - mean_squared_error: 0.0440 - val_loss: 0.0787 - val_mean_squared_error: 0.0787\n",
      "Epoch 5/5\n",
      "16/16 [==============================] - 11s 694ms/step - loss: 0.0264 - mean_squared_error: 0.0264 - val_loss: 0.0793 - val_mean_squared_error: 0.0793\n"
     ]
    }
   ],
   "source": [
    "history = model.fit(x_train, y_train,\n",
    "                    epochs=5,\n",
    "                    batch_size=128,\n",
    "                    validation_split=0.2)"
   ]
  },
  {
   "cell_type": "code",
   "execution_count": 13,
   "metadata": {},
   "outputs": [
    {
     "data": {
      "image/png": "[encoded data removed]",
      "text/plain": [
       "<Figure size 432x288 with 1 Axes>"
      ]
     },
     "metadata": {
      "needs_background": "light"
     },
     "output_type": "display_data"
    }
   ],
   "source": [
    "acc = history.history['mean_squared_error']\n",
    "val_acc = history.history['val_mean_squared_error']\n",
    "loss = history.history['loss']\n",
    "val_loss = history.history['val_loss']\n",
    "\n",
    "epochs = range(len(acc))\n",
    "\n",
    "#plt.plot(epochs, acc, 'bo', label='Training acc')\n",
    "#plt.plot(epochs, val_acc, 'b', label='Validation acc')\n",
    "#plt.title('Training and validation accuracy')\n",
    "#plt.legend()\n",
    "\n",
    "plt.figure()\n",
    "\n",
    "plt.plot(epochs, loss, 'bo', label='Training loss')\n",
    "plt.plot(epochs, val_loss, 'b', label='Validation loss')\n",
    "plt.title('Training and validation loss')\n",
    "plt.legend()\n",
    "\n",
    "plt.show()"
   ]
  },
  {
   "cell_type": "code",
   "execution_count": 14,
   "metadata": {},
   "outputs": [
    {
     "name": "stdout",
     "output_type": "stream",
     "text": [
      "313/313 [==============================] - 15s 47ms/step - loss: 0.0382 - mean_squared_error: 0.0382\n"
     ]
    },
    {
     "data": {
      "text/plain": [
       "[0.03819834813475609, 0.03819834813475609]"
      ]
     },
     "execution_count": 14,
     "metadata": {},
     "output_type": "execute_result"
    }
   ],
   "source": [
    "model.evaluate(x_test, y_test)"
   ]
  },
  {
   "cell_type": "markdown",
   "metadata": {},
   "source": [
    "Now, we assign cutoffs for the 20th, 40th, 60th, and 80th percentiles (based on the training predictions)."
   ]
  },
  {
   "cell_type": "code",
   "execution_count": 15,
   "metadata": {},
   "outputs": [
    {
     "name": "stdout",
     "output_type": "stream",
     "text": [
      "[0.23933488]\n",
      "[0.43908587]\n",
      "[0.57127327]\n",
      "[0.7341324]\n",
      "[0.8820386]\n",
      "[0.98468864]\n"
     ]
    },
    {
     "data": {
      "text/html": [
       "<div>\n",
       "<style scoped>\n",
       "    .dataframe tbody tr th:only-of-type {\n",
       "        vertical-align: middle;\n",
       "    }\n",
       "\n",
       "    .dataframe tbody tr th {\n",
       "        vertical-align: top;\n",
       "    }\n",
       "\n",
       "    .dataframe thead th {\n",
       "        text-align: right;\n",
       "    }\n",
       "</style>\n",
       "<table border=\"1\" class=\"dataframe\">\n",
       "  <thead>\n",
       "    <tr style=\"text-align: right;\">\n",
       "      <th></th>\n",
       "      <th>0</th>\n",
       "    </tr>\n",
       "  </thead>\n",
       "  <tbody>\n",
       "    <tr>\n",
       "      <th>count</th>\n",
       "      <td>2500.000000</td>\n",
       "    </tr>\n",
       "    <tr>\n",
       "      <th>mean</th>\n",
       "      <td>0.652214</td>\n",
       "    </tr>\n",
       "    <tr>\n",
       "      <th>std</th>\n",
       "      <td>0.206907</td>\n",
       "    </tr>\n",
       "    <tr>\n",
       "      <th>min</th>\n",
       "      <td>0.239335</td>\n",
       "    </tr>\n",
       "    <tr>\n",
       "      <th>25%</th>\n",
       "      <td>0.469886</td>\n",
       "    </tr>\n",
       "    <tr>\n",
       "      <th>50%</th>\n",
       "      <td>0.642322</td>\n",
       "    </tr>\n",
       "    <tr>\n",
       "      <th>75%</th>\n",
       "      <td>0.851232</td>\n",
       "    </tr>\n",
       "    <tr>\n",
       "      <th>max</th>\n",
       "      <td>0.984689</td>\n",
       "    </tr>\n",
       "  </tbody>\n",
       "</table>\n",
       "</div>"
      ],
      "text/plain": [
       "                 0\n",
       "count  2500.000000\n",
       "mean      0.652214\n",
       "std       0.206907\n",
       "min       0.239335\n",
       "25%       0.469886\n",
       "50%       0.642322\n",
       "75%       0.851232\n",
       "max       0.984689"
      ]
     },
     "execution_count": 15,
     "metadata": {},
     "output_type": "execute_result"
    }
   ],
   "source": [
    "train_pred = model.predict(x_train)\n",
    "train_pred = np.reshape(train_pred, (2500,1))\n",
    "train_pred = np.sort(train_pred, axis = 0)\n",
    "print(train_pred[0])\n",
    "print(train_pred[499])\n",
    "print(train_pred[999])\n",
    "print(train_pred[1499])\n",
    "print(train_pred[1999])\n",
    "print(train_pred[2499])\n",
    "max1 = train_pred[499]\n",
    "max2 = train_pred[999]\n",
    "max3 = train_pred[1499]\n",
    "max4 = train_pred[1999]\n",
    "pd.DataFrame(train_pred).describe()"
   ]
  },
  {
   "cell_type": "code",
   "execution_count": 16,
   "metadata": {},
   "outputs": [
    {
     "data": {
      "text/html": [
       "<div>\n",
       "<style scoped>\n",
       "    .dataframe tbody tr th:only-of-type {\n",
       "        vertical-align: middle;\n",
       "    }\n",
       "\n",
       "    .dataframe tbody tr th {\n",
       "        vertical-align: top;\n",
       "    }\n",
       "\n",
       "    .dataframe thead th {\n",
       "        text-align: right;\n",
       "    }\n",
       "</style>\n",
       "<table border=\"1\" class=\"dataframe\">\n",
       "  <thead>\n",
       "    <tr style=\"text-align: right;\">\n",
       "      <th></th>\n",
       "      <th>0</th>\n",
       "    </tr>\n",
       "  </thead>\n",
       "  <tbody>\n",
       "    <tr>\n",
       "      <th>count</th>\n",
       "      <td>10000.000000</td>\n",
       "    </tr>\n",
       "    <tr>\n",
       "      <th>mean</th>\n",
       "      <td>0.713525</td>\n",
       "    </tr>\n",
       "    <tr>\n",
       "      <th>std</th>\n",
       "      <td>0.176436</td>\n",
       "    </tr>\n",
       "    <tr>\n",
       "      <th>min</th>\n",
       "      <td>0.239335</td>\n",
       "    </tr>\n",
       "    <tr>\n",
       "      <th>25%</th>\n",
       "      <td>0.578521</td>\n",
       "    </tr>\n",
       "    <tr>\n",
       "      <th>50%</th>\n",
       "      <td>0.739248</td>\n",
       "    </tr>\n",
       "    <tr>\n",
       "      <th>75%</th>\n",
       "      <td>0.865739</td>\n",
       "    </tr>\n",
       "    <tr>\n",
       "      <th>max</th>\n",
       "      <td>0.984689</td>\n",
       "    </tr>\n",
       "  </tbody>\n",
       "</table>\n",
       "</div>"
      ],
      "text/plain": [
       "                  0\n",
       "count  10000.000000\n",
       "mean       0.713525\n",
       "std        0.176436\n",
       "min        0.239335\n",
       "25%        0.578521\n",
       "50%        0.739248\n",
       "75%        0.865739\n",
       "max        0.984689"
      ]
     },
     "execution_count": 16,
     "metadata": {},
     "output_type": "execute_result"
    }
   ],
   "source": [
    "pred = model.predict(x_test)\n",
    "pd.DataFrame(pred).describe()"
   ]
  },
  {
   "cell_type": "code",
   "execution_count": 18,
   "metadata": {},
   "outputs": [
    {
     "name": "stdout",
     "output_type": "stream",
     "text": [
      "                  0\n",
      "count  10000.000000\n",
      "mean       3.397100\n",
      "std        1.222195\n",
      "min        1.000000\n",
      "25%        3.000000\n",
      "50%        4.000000\n",
      "75%        4.000000\n",
      "max        5.000000\n",
      "0.3914\n",
      "0.3760855295885693\n",
      "0.40411234418567066\n"
     ]
    }
   ],
   "source": [
    "pred = model.predict(x_test)\n",
    "pred = np.where(pred < max1, 1, np.where(pred < max2, 2, np.where(pred < max3, 3, np.where(pred < max4, 4, 5))))\n",
    "print(pd.DataFrame(pred).describe())\n",
    "print(accuracy_score(labels, pred))\n",
    "print(f1_score(labels,pred, average = 'macro'))\n",
    "print(f1_score(labels,pred, average = 'weighted'))"
   ]
  },
  {
   "cell_type": "markdown",
   "metadata": {},
   "source": [
    "Our model does better than random guessing. Note that our accuracy metrics are incredibly strict: for our purposes, we wish to predict the EXACT amount of stars a review will have, as we are treating the problem as a classification rather than a regression one.\n",
    "\n",
    "Still, the accuracy metrics are around 0.4, so this is clearly an improvable model."
   ]
  },
  {
   "cell_type": "markdown",
   "metadata": {},
   "source": [
    "We try the same model as above, but with more epochs and more dropout (to combat overfitting)"
   ]
  },
  {
   "cell_type": "code",
   "execution_count": 27,
   "metadata": {},
   "outputs": [
    {
     "name": "stdout",
     "output_type": "stream",
     "text": [
      "Model: \"sequential_4\"\n",
      "_________________________________________________________________\n",
      " Layer (type)                Output Shape              Param #   \n",
      "=================================================================\n",
      " embedding_4 (Embedding)     (None, 200, 64)           640000    \n",
      "                                                                 \n",
      " lstm_5 (LSTM)               (None, 64)                33024     \n",
      "                                                                 \n",
      " dense_3 (Dense)             (None, 1)                 65        \n",
      "                                                                 \n",
      "=================================================================\n",
      "Total params: 673,089\n",
      "Trainable params: 673,089\n",
      "Non-trainable params: 0\n",
      "_________________________________________________________________\n"
     ]
    }
   ],
   "source": [
    "max_words = 10000 \n",
    "maxlen = 200\n",
    "model = Sequential()\n",
    "model.add(Embedding(max_words, 64,input_length = maxlen))\n",
    "model.add(LSTM(64,dropout=0.25, recurrent_dropout=0.25))\n",
    "model.add(Dense(1, activation='sigmoid'))\n",
    "\n",
    "model.compile(optimizer='adam',\n",
    "              loss='mean_squared_error',\n",
    "              metrics=['mean_squared_error'])\n",
    "model.summary()"
   ]
  },
  {
   "cell_type": "code",
   "execution_count": 28,
   "metadata": {},
   "outputs": [
    {
     "name": "stdout",
     "output_type": "stream",
     "text": [
      "Epoch 1/10\n",
      "16/16 [==============================] - 16s 633ms/step - loss: 0.0837 - mean_squared_error: 0.0837 - val_loss: 0.1872 - val_mean_squared_error: 0.1872\n",
      "Epoch 2/10\n",
      "16/16 [==============================] - 10s 597ms/step - loss: 0.0693 - mean_squared_error: 0.0693 - val_loss: 0.1307 - val_mean_squared_error: 0.1307\n",
      "Epoch 3/10\n",
      "16/16 [==============================] - 9s 593ms/step - loss: 0.0625 - mean_squared_error: 0.0625 - val_loss: 0.1190 - val_mean_squared_error: 0.1190\n",
      "Epoch 4/10\n",
      "16/16 [==============================] - 9s 582ms/step - loss: 0.0511 - mean_squared_error: 0.0511 - val_loss: 0.1248 - val_mean_squared_error: 0.1248\n",
      "Epoch 5/10\n",
      "16/16 [==============================] - 10s 642ms/step - loss: 0.0322 - mean_squared_error: 0.0322 - val_loss: 0.0556 - val_mean_squared_error: 0.0556\n",
      "Epoch 6/10\n",
      "16/16 [==============================] - 10s 636ms/step - loss: 0.0217 - mean_squared_error: 0.0217 - val_loss: 0.0940 - val_mean_squared_error: 0.0940\n",
      "Epoch 7/10\n",
      "16/16 [==============================] - 10s 639ms/step - loss: 0.0147 - mean_squared_error: 0.0147 - val_loss: 0.0783 - val_mean_squared_error: 0.0783\n",
      "Epoch 8/10\n",
      "16/16 [==============================] - 10s 624ms/step - loss: 0.0107 - mean_squared_error: 0.0107 - val_loss: 0.0703 - val_mean_squared_error: 0.0703\n",
      "Epoch 9/10\n",
      "16/16 [==============================] - 10s 626ms/step - loss: 0.0083 - mean_squared_error: 0.0083 - val_loss: 0.0790 - val_mean_squared_error: 0.0790\n",
      "Epoch 10/10\n",
      "16/16 [==============================] - 10s 634ms/step - loss: 0.0065 - mean_squared_error: 0.0065 - val_loss: 0.0769 - val_mean_squared_error: 0.0769\n"
     ]
    }
   ],
   "source": [
    "history = model.fit(x_train, y_train,\n",
    "                    epochs=10,\n",
    "                    batch_size=128,\n",
    "                    validation_split=0.2)"
   ]
  },
  {
   "cell_type": "code",
   "execution_count": 29,
   "metadata": {},
   "outputs": [
    {
     "data": {
      "image/png": "[encoded data removed]",
      "text/plain": [
       "<Figure size 432x288 with 1 Axes>"
      ]
     },
     "metadata": {
      "needs_background": "light"
     },
     "output_type": "display_data"
    },
    {
     "data": {
      "image/png": "[encoded data removed]",
      "text/plain": [
       "<Figure size 432x288 with 1 Axes>"
      ]
     },
     "metadata": {
      "needs_background": "light"
     },
     "output_type": "display_data"
    }
   ],
   "source": [
    "acc = history.history['mean_squared_error']\n",
    "val_acc = history.history['val_mean_squared_error']\n",
    "loss = history.history['loss']\n",
    "val_loss = history.history['val_loss']\n",
    "\n",
    "epochs = range(len(acc))\n",
    "\n",
    "plt.plot(epochs, acc, 'bo', label='Training acc')\n",
    "plt.plot(epochs, val_acc, 'b', label='Validation acc')\n",
    "plt.title('Training and validation accuracy')\n",
    "plt.legend()\n",
    "\n",
    "plt.figure()\n",
    "\n",
    "plt.plot(epochs, loss, 'bo', label='Training loss')\n",
    "plt.plot(epochs, val_loss, 'b', label='Validation loss')\n",
    "plt.title('Training and validation loss')\n",
    "plt.legend()\n",
    "\n",
    "plt.show()"
   ]
  },
  {
   "cell_type": "code",
   "execution_count": 30,
   "metadata": {},
   "outputs": [
    {
     "name": "stdout",
     "output_type": "stream",
     "text": [
      "313/313 [==============================] - 15s 49ms/step - loss: 0.0395 - mean_squared_error: 0.0395\n"
     ]
    },
    {
     "data": {
      "text/plain": [
       "[0.03945118561387062, 0.03945118561387062]"
      ]
     },
     "execution_count": 30,
     "metadata": {},
     "output_type": "execute_result"
    }
   ],
   "source": [
    "model.evaluate(x_test, y_test)"
   ]
  },
  {
   "cell_type": "code",
   "execution_count": 31,
   "metadata": {},
   "outputs": [
    {
     "name": "stdout",
     "output_type": "stream",
     "text": [
      "[0.15175322]\n",
      "[0.38360918]\n",
      "[0.5710807]\n",
      "[0.76871586]\n",
      "[0.909233]\n",
      "[0.9907366]\n",
      "                  0\n",
      "count  10000.000000\n",
      "mean       3.353800\n",
      "std        1.229625\n",
      "min        1.000000\n",
      "25%        2.000000\n",
      "50%        3.000000\n",
      "75%        4.000000\n",
      "max        5.000000\n",
      "0.4304\n",
      "0.4200643805074982\n",
      "0.4445347009511704\n"
     ]
    }
   ],
   "source": [
    "train_pred = model.predict(x_train)\n",
    "train_pred = np.reshape(train_pred, (2500,1))\n",
    "train_pred = np.sort(train_pred, axis = 0)\n",
    "print(train_pred[0])\n",
    "print(train_pred[499])\n",
    "print(train_pred[999])\n",
    "print(train_pred[1499])\n",
    "print(train_pred[1999])\n",
    "print(train_pred[2499])\n",
    "max1 = train_pred[499]\n",
    "max2 = train_pred[999]\n",
    "max3 = train_pred[1499]\n",
    "max4 = train_pred[1999]\n",
    "\n",
    "pred = model.predict(x_test)\n",
    "pred = np.where(pred < max1, 1, np.where(pred < max2, 2, np.where(pred < max3, 3, np.where(pred < max4, 4, 5))))\n",
    "print(pd.DataFrame(pred).describe())\n",
    "print(accuracy_score(labels, pred))\n",
    "print(f1_score(labels,pred, average = 'macro'))\n",
    "print(f1_score(labels,pred, average = 'weighted'))"
   ]
  },
  {
   "cell_type": "markdown",
   "metadata": {},
   "source": [
    "The initial evaluation (pre-classification) of this model was only slight better than the original, but we can see that our accuracy scores were all much better, all safely above 0.4, evidence that the additional epophcs and dropout helped the strength of the model without causing overfitting."
   ]
  },
  {
   "cell_type": "markdown",
   "metadata": {},
   "source": [
    " ### Model 2 -  Using combination of CNN and RNN\n",
    " For this model, we use a convolutional model and then an LSTM."
   ]
  },
  {
   "cell_type": "code",
   "execution_count": 32,
   "metadata": {},
   "outputs": [
    {
     "name": "stdout",
     "output_type": "stream",
     "text": [
      "Model: \"sequential_5\"\n",
      "_________________________________________________________________\n",
      " Layer (type)                Output Shape              Param #   \n",
      "=================================================================\n",
      " embedding_5 (Embedding)     (None, 200, 128)          1280000   \n",
      "                                                                 \n",
      " dropout_1 (Dropout)         (None, 200, 128)          0         \n",
      "                                                                 \n",
      " conv1d_1 (Conv1D)           (None, 196, 64)           41024     \n",
      "                                                                 \n",
      " max_pooling1d_1 (MaxPooling  (None, 65, 64)           0         \n",
      " 1D)                                                             \n",
      "                                                                 \n",
      " lstm_6 (LSTM)               (None, 128)               98816     \n",
      "                                                                 \n",
      " dense_4 (Dense)             (None, 1)                 129       \n",
      "                                                                 \n",
      "=================================================================\n",
      "Total params: 1,419,969\n",
      "Trainable params: 1,419,969\n",
      "Non-trainable params: 0\n",
      "_________________________________________________________________\n"
     ]
    }
   ],
   "source": [
    "model_conv = Sequential()\n",
    "model_conv.add(Embedding(max_words, 128, input_length=maxlen))\n",
    "model_conv.add(Dropout(0.2))\n",
    "model_conv.add(Conv1D(64, 5, activation='relu'))\n",
    "model_conv.add(MaxPooling1D(pool_size=3))\n",
    "model_conv.add(LSTM(128))\n",
    "model_conv.add(Dense(1, activation='sigmoid'))\n",
    "model_conv.compile(loss='mean_squared_error', optimizer='adam', metrics=['mean_squared_error'])\n",
    "model_conv.summary()"
   ]
  },
  {
   "cell_type": "code",
   "execution_count": 33,
   "metadata": {},
   "outputs": [
    {
     "name": "stdout",
     "output_type": "stream",
     "text": [
      "Epoch 1/10\n",
      "16/16 [==============================] - 13s 475ms/step - loss: 0.0766 - mean_squared_error: 0.0766 - val_loss: 0.1074 - val_mean_squared_error: 0.1074\n",
      "Epoch 2/10\n",
      "16/16 [==============================] - 8s 504ms/step - loss: 0.0665 - mean_squared_error: 0.0665 - val_loss: 0.1417 - val_mean_squared_error: 0.1417\n",
      "Epoch 3/10\n",
      "16/16 [==============================] - 9s 554ms/step - loss: 0.0562 - mean_squared_error: 0.0562 - val_loss: 0.1137 - val_mean_squared_error: 0.1137\n",
      "Epoch 4/10\n",
      "16/16 [==============================] - 8s 501ms/step - loss: 0.0351 - mean_squared_error: 0.0351 - val_loss: 0.0876 - val_mean_squared_error: 0.0876\n",
      "Epoch 5/10\n",
      "16/16 [==============================] - 7s 441ms/step - loss: 0.0220 - mean_squared_error: 0.0220 - val_loss: 0.0982 - val_mean_squared_error: 0.0982\n",
      "Epoch 6/10\n",
      "16/16 [==============================] - 7s 462ms/step - loss: 0.0133 - mean_squared_error: 0.0133 - val_loss: 0.0655 - val_mean_squared_error: 0.0655\n",
      "Epoch 7/10\n",
      "16/16 [==============================] - 8s 484ms/step - loss: 0.0086 - mean_squared_error: 0.0086 - val_loss: 0.0726 - val_mean_squared_error: 0.0726\n",
      "Epoch 8/10\n",
      "16/16 [==============================] - 7s 457ms/step - loss: 0.0060 - mean_squared_error: 0.0060 - val_loss: 0.0681 - val_mean_squared_error: 0.0681\n",
      "Epoch 9/10\n",
      "16/16 [==============================] - 7s 438ms/step - loss: 0.0047 - mean_squared_error: 0.0047 - val_loss: 0.0699 - val_mean_squared_error: 0.0699\n",
      "Epoch 10/10\n",
      "16/16 [==============================] - 7s 454ms/step - loss: 0.0043 - mean_squared_error: 0.0043 - val_loss: 0.0771 - val_mean_squared_error: 0.0771\n"
     ]
    }
   ],
   "source": [
    "history = model_conv.fit(x_train, y_train,\n",
    "                    epochs=10,\n",
    "                    batch_size=128,\n",
    "                    validation_split=0.2)"
   ]
  },
  {
   "cell_type": "code",
   "execution_count": 34,
   "metadata": {},
   "outputs": [
    {
     "data": {
      "image/png": "[encoded data removed]",
      "text/plain": [
       "<Figure size 432x288 with 1 Axes>"
      ]
     },
     "metadata": {
      "needs_background": "light"
     },
     "output_type": "display_data"
    }
   ],
   "source": [
    "acc = history.history['mean_squared_error']\n",
    "val_acc = history.history['val_mean_squared_error']\n",
    "loss = history.history['loss']\n",
    "val_loss = history.history['val_loss']\n",
    "\n",
    "epochs = range(len(acc))\n",
    "\n",
    "#plt.plot(epochs, acc, 'bo', label='Training acc')\n",
    "#plt.plot(epochs, val_acc, 'b', label='Validation acc')\n",
    "#plt.title('Training and validation accuracy')\n",
    "#plt.legend()\n",
    "\n",
    "plt.figure()\n",
    "\n",
    "plt.plot(epochs, loss, 'bo', label='Training loss')\n",
    "plt.plot(epochs, val_loss, 'b', label='Validation loss')\n",
    "plt.title('Training and validation loss')\n",
    "plt.legend()\n",
    "\n",
    "plt.show()"
   ]
  },
  {
   "cell_type": "code",
   "execution_count": 35,
   "metadata": {},
   "outputs": [
    {
     "name": "stdout",
     "output_type": "stream",
     "text": [
      "313/313 [==============================] - 14s 45ms/step - loss: 0.0468 - mean_squared_error: 0.0468\n"
     ]
    },
    {
     "data": {
      "text/plain": [
       "[0.04681209847331047, 0.04681209847331047]"
      ]
     },
     "execution_count": 35,
     "metadata": {},
     "output_type": "execute_result"
    }
   ],
   "source": [
    "model_conv.evaluate(x_test, y_test)"
   ]
  },
  {
   "cell_type": "markdown",
   "metadata": {},
   "source": [
    "Our initial \"regression\" model is notably better here, almost getting to 0.5."
   ]
  },
  {
   "cell_type": "code",
   "execution_count": 40,
   "metadata": {},
   "outputs": [
    {
     "name": "stdout",
     "output_type": "stream",
     "text": [
      "[0.14569229]\n",
      "[0.3773192]\n",
      "[0.5512589]\n",
      "[0.7384934]\n",
      "[0.8944385]\n",
      "[0.99736154]\n",
      "                  0\n",
      "count  10000.000000\n",
      "mean       3.280400\n",
      "std        1.226999\n",
      "min        1.000000\n",
      "25%        2.000000\n",
      "50%        3.000000\n",
      "75%        4.000000\n",
      "max        5.000000\n",
      "0.4096\n",
      "0.40024345956097857\n",
      "0.42720843169094025\n"
     ]
    }
   ],
   "source": [
    "train_pred = model_conv.predict(x_train)\n",
    "train_pred = np.reshape(train_pred, (2500,1))\n",
    "train_pred = np.sort(train_pred, axis = 0)\n",
    "print(train_pred[0])\n",
    "print(train_pred[499])\n",
    "print(train_pred[999])\n",
    "print(train_pred[1499])\n",
    "print(train_pred[1999])\n",
    "print(train_pred[2499])\n",
    "max1 = train_pred[499]\n",
    "max2 = train_pred[999]\n",
    "max3 = train_pred[1499]\n",
    "max4 = train_pred[1999]\n",
    "\n",
    "pred = model_conv.predict(x_test)\n",
    "pred = np.where(pred < max1, 1, np.where(pred < max2, 2, np.where(pred < max3, 3, np.where(pred < max4, 4, 5))))\n",
    "print(pd.DataFrame(pred).describe())\n",
    "print(accuracy_score(labels, pred))\n",
    "print(f1_score(labels,pred, average = 'macro'))\n",
    "print(f1_score(labels,pred, average = 'weighted'))"
   ]
  },
  {
   "cell_type": "markdown",
   "metadata": {},
   "source": [
    "However, the classification power of this model is not necessarily better than the previous one. This model does seem to predict slightly lower star values than the last, so the classification could have been messed up by a poor construction of percentiles from the training data."
   ]
  },
  {
   "cell_type": "markdown",
   "metadata": {},
   "source": [
    "#  Using bidirectional RNNs\n",
    "We construct a simple LSTM RNN, except we make it bidirectional. This allows the model to consider forward and backward relations between words."
   ]
  },
  {
   "cell_type": "code",
   "execution_count": 41,
   "metadata": {},
   "outputs": [],
   "source": [
    "from keras import backend as K\n",
    "K.clear_session()"
   ]
  },
  {
   "cell_type": "code",
   "execution_count": 42,
   "metadata": {},
   "outputs": [
    {
     "name": "stdout",
     "output_type": "stream",
     "text": [
      "Model: \"sequential\"\n",
      "_________________________________________________________________\n",
      " Layer (type)                Output Shape              Param #   \n",
      "=================================================================\n",
      " embedding (Embedding)       (None, 200, 128)          1280000   \n",
      "                                                                 \n",
      " bidirectional (Bidirectiona  (None, 256)              263168    \n",
      " l)                                                              \n",
      "                                                                 \n",
      " dense (Dense)               (None, 1)                 257       \n",
      "                                                                 \n",
      "=================================================================\n",
      "Total params: 1,543,425\n",
      "Trainable params: 1,543,425\n",
      "Non-trainable params: 0\n",
      "_________________________________________________________________\n"
     ]
    }
   ],
   "source": [
    "model = Sequential()\n",
    "model.add(Embedding(max_words, 128, input_length=maxlen))\n",
    "model.add(Bidirectional(LSTM(128)))\n",
    "model.add(Dense(1, activation='sigmoid'))\n",
    "model.compile(optimizer='adam',loss='mean_squared_error', metrics=['mean_squared_error'])\n",
    "model.summary()"
   ]
  },
  {
   "cell_type": "code",
   "execution_count": 43,
   "metadata": {},
   "outputs": [
    {
     "name": "stdout",
     "output_type": "stream",
     "text": [
      "Epoch 1/10\n",
      "16/16 [==============================] - 57s 3s/step - loss: 0.0770 - mean_squared_error: 0.0770 - val_loss: 0.1222 - val_mean_squared_error: 0.1222\n",
      "Epoch 2/10\n",
      "16/16 [==============================] - 51s 3s/step - loss: 0.0655 - mean_squared_error: 0.0655 - val_loss: 0.1109 - val_mean_squared_error: 0.1109\n",
      "Epoch 3/10\n",
      "16/16 [==============================] - 52s 3s/step - loss: 0.0491 - mean_squared_error: 0.0491 - val_loss: 0.0709 - val_mean_squared_error: 0.0709\n",
      "Epoch 4/10\n",
      "16/16 [==============================] - 50s 3s/step - loss: 0.0269 - mean_squared_error: 0.0269 - val_loss: 0.0831 - val_mean_squared_error: 0.0831\n",
      "Epoch 5/10\n",
      "16/16 [==============================] - 52s 3s/step - loss: 0.0161 - mean_squared_error: 0.0161 - val_loss: 0.0708 - val_mean_squared_error: 0.0708\n",
      "Epoch 6/10\n",
      "16/16 [==============================] - 51s 3s/step - loss: 0.0101 - mean_squared_error: 0.0101 - val_loss: 0.1082 - val_mean_squared_error: 0.1082\n",
      "Epoch 7/10\n",
      "16/16 [==============================] - 52s 3s/step - loss: 0.0078 - mean_squared_error: 0.0078 - val_loss: 0.0881 - val_mean_squared_error: 0.0881\n",
      "Epoch 8/10\n",
      "16/16 [==============================] - 51s 3s/step - loss: 0.0053 - mean_squared_error: 0.0053 - val_loss: 0.0924 - val_mean_squared_error: 0.0924\n",
      "Epoch 9/10\n",
      "16/16 [==============================] - 51s 3s/step - loss: 0.0038 - mean_squared_error: 0.0038 - val_loss: 0.0966 - val_mean_squared_error: 0.0966\n",
      "Epoch 10/10\n",
      "16/16 [==============================] - 54s 3s/step - loss: 0.0027 - mean_squared_error: 0.0027 - val_loss: 0.0873 - val_mean_squared_error: 0.0873\n"
     ]
    }
   ],
   "source": [
    "history = model.fit(x_train, y_train, epochs=10, batch_size=128, validation_split=0.2)"
   ]
  },
  {
   "cell_type": "code",
   "execution_count": 44,
   "metadata": {},
   "outputs": [
    {
     "data": {
      "image/png": "[encoded data removed]",
      "text/plain": [
       "<Figure size 432x288 with 1 Axes>"
      ]
     },
     "metadata": {
      "needs_background": "light"
     },
     "output_type": "display_data"
    }
   ],
   "source": [
    "import matplotlib.pyplot as plt\n",
    "%matplotlib inline \n",
    "acc = history.history['mean_squared_error']\n",
    "val_acc = history.history['val_mean_squared_error']\n",
    "loss = history.history['loss']\n",
    "val_loss = history.history['val_loss']\n",
    "\n",
    "epochs = range(len(acc))\n",
    "\n",
    "#plt.plot(epochs, acc, 'bo', label='Training acc')\n",
    "#plt.plot(epochs, val_acc, 'b', label='Validation acc')\n",
    "#plt.title('Training and validation accuracy')\n",
    "#plt.legend()\n",
    "\n",
    "plt.figure()\n",
    "\n",
    "plt.plot(epochs, loss, 'bo', label='Training loss')\n",
    "plt.plot(epochs, val_loss, 'b', label='Validation loss')\n",
    "plt.title('Training and validation loss')\n",
    "plt.legend()\n",
    "\n",
    "plt.show()"
   ]
  },
  {
   "cell_type": "code",
   "execution_count": 45,
   "metadata": {
    "scrolled": true
   },
   "outputs": [
    {
     "name": "stdout",
     "output_type": "stream",
     "text": [
      "313/313 [==============================] - 47s 151ms/step - loss: 0.0442 - mean_squared_error: 0.0442\n"
     ]
    },
    {
     "data": {
      "text/plain": [
       "[0.04418960586190224, 0.04418960586190224]"
      ]
     },
     "execution_count": 45,
     "metadata": {},
     "output_type": "execute_result"
    }
   ],
   "source": [
    "model.evaluate(x_test, y_test)"
   ]
  },
  {
   "cell_type": "markdown",
   "metadata": {},
   "source": [
    "Pretty good initial predictions, almost as good as the CNN + RNN model"
   ]
  },
  {
   "cell_type": "code",
   "execution_count": 46,
   "metadata": {},
   "outputs": [
    {
     "name": "stdout",
     "output_type": "stream",
     "text": [
      "[0.12602794]\n",
      "[0.38806078]\n",
      "[0.58063126]\n",
      "[0.7796544]\n",
      "[0.9294343]\n",
      "[0.998315]\n",
      "                  0\n",
      "count  10000.000000\n",
      "mean       3.286200\n",
      "std        1.242274\n",
      "min        1.000000\n",
      "25%        2.000000\n",
      "50%        3.000000\n",
      "75%        4.000000\n",
      "max        5.000000\n",
      "0.4252\n",
      "0.4148024904850791\n",
      "0.44164699398847423\n"
     ]
    }
   ],
   "source": [
    "train_pred = model.predict(x_train)\n",
    "train_pred = np.reshape(train_pred, (2500,1))\n",
    "train_pred = np.sort(train_pred, axis = 0)\n",
    "print(train_pred[0])\n",
    "print(train_pred[499])\n",
    "print(train_pred[999])\n",
    "print(train_pred[1499])\n",
    "print(train_pred[1999])\n",
    "print(train_pred[2499])\n",
    "max1 = train_pred[499]\n",
    "max2 = train_pred[999]\n",
    "max3 = train_pred[1499]\n",
    "max4 = train_pred[1999]\n",
    "\n",
    "[0.15175322]\n",
    "[0.38360918]\n",
    "[0.5710807]\n",
    "[0.76871586]\n",
    "[0.909233]\n",
    "[0.9907366]\n",
    "\n",
    "pred = model.predict(x_test)\n",
    "pred = np.where(pred < max1, 1, np.where(pred < max2, 2, np.where(pred < max3, 3, np.where(pred < max4, 4, 5))))\n",
    "print(pd.DataFrame(pred).describe())\n",
    "print(accuracy_score(labels, pred))\n",
    "print(f1_score(labels,pred, average = 'macro'))\n",
    "print(f1_score(labels,pred, average = 'weighted'))"
   ]
  },
  {
   "cell_type": "markdown",
   "metadata": {},
   "source": [
    "The classification seems to be around as good as the initial 10-epoch RNN, based on our accuracy. Given the strong performance pre-classification, this seems to be the best model. "
   ]
  },
  {
   "cell_type": "markdown",
   "metadata": {},
   "source": [
    "# Using New Data\n",
    "We use a new large dataset to test our bidirectional model. This dataset has many, many entries -- we will only use a relatively small (size 100000) portion due to computational time."
   ]
  },
  {
   "cell_type": "code",
   "execution_count": 48,
   "metadata": {},
   "outputs": [
    {
     "data": {
      "text/html": [
       "<div>\n",
       "<style scoped>\n",
       "    .dataframe tbody tr th:only-of-type {\n",
       "        vertical-align: middle;\n",
       "    }\n",
       "\n",
       "    .dataframe tbody tr th {\n",
       "        vertical-align: top;\n",
       "    }\n",
       "\n",
       "    .dataframe thead th {\n",
       "        text-align: right;\n",
       "    }\n",
       "</style>\n",
       "<table border=\"1\" class=\"dataframe\">\n",
       "  <thead>\n",
       "    <tr style=\"text-align: right;\">\n",
       "      <th></th>\n",
       "      <th>stars</th>\n",
       "      <th>useful</th>\n",
       "      <th>funny</th>\n",
       "      <th>cool</th>\n",
       "    </tr>\n",
       "  </thead>\n",
       "  <tbody>\n",
       "    <tr>\n",
       "      <th>count</th>\n",
       "      <td>100000.000000</td>\n",
       "      <td>100000.000000</td>\n",
       "      <td>100000.000000</td>\n",
       "      <td>100000.000000</td>\n",
       "    </tr>\n",
       "    <tr>\n",
       "      <th>mean</th>\n",
       "      <td>3.842910</td>\n",
       "      <td>0.898980</td>\n",
       "      <td>0.257180</td>\n",
       "      <td>0.347030</td>\n",
       "    </tr>\n",
       "    <tr>\n",
       "      <th>std</th>\n",
       "      <td>1.354729</td>\n",
       "      <td>2.205186</td>\n",
       "      <td>1.010212</td>\n",
       "      <td>1.066382</td>\n",
       "    </tr>\n",
       "    <tr>\n",
       "      <th>min</th>\n",
       "      <td>1.000000</td>\n",
       "      <td>0.000000</td>\n",
       "      <td>0.000000</td>\n",
       "      <td>0.000000</td>\n",
       "    </tr>\n",
       "    <tr>\n",
       "      <th>25%</th>\n",
       "      <td>3.000000</td>\n",
       "      <td>0.000000</td>\n",
       "      <td>0.000000</td>\n",
       "      <td>0.000000</td>\n",
       "    </tr>\n",
       "    <tr>\n",
       "      <th>50%</th>\n",
       "      <td>4.000000</td>\n",
       "      <td>0.000000</td>\n",
       "      <td>0.000000</td>\n",
       "      <td>0.000000</td>\n",
       "    </tr>\n",
       "    <tr>\n",
       "      <th>75%</th>\n",
       "      <td>5.000000</td>\n",
       "      <td>1.000000</td>\n",
       "      <td>0.000000</td>\n",
       "      <td>0.000000</td>\n",
       "    </tr>\n",
       "    <tr>\n",
       "      <th>max</th>\n",
       "      <td>5.000000</td>\n",
       "      <td>320.000000</td>\n",
       "      <td>98.000000</td>\n",
       "      <td>49.000000</td>\n",
       "    </tr>\n",
       "  </tbody>\n",
       "</table>\n",
       "</div>"
      ],
      "text/plain": [
       "               stars         useful          funny           cool\n",
       "count  100000.000000  100000.000000  100000.000000  100000.000000\n",
       "mean        3.842910       0.898980       0.257180       0.347030\n",
       "std         1.354729       2.205186       1.010212       1.066382\n",
       "min         1.000000       0.000000       0.000000       0.000000\n",
       "25%         3.000000       0.000000       0.000000       0.000000\n",
       "50%         4.000000       0.000000       0.000000       0.000000\n",
       "75%         5.000000       1.000000       0.000000       0.000000\n",
       "max         5.000000     320.000000      98.000000      49.000000"
      ]
     },
     "execution_count": 48,
     "metadata": {},
     "output_type": "execute_result"
    }
   ],
   "source": [
    "newdata = pd.read_json('yelp_academic_dataset_review.json', lines = True, encoding_errors = 'ignore', nrows = 100000)\n",
    "newdata.describe()"
   ]
  },
  {
   "cell_type": "code",
   "execution_count": 49,
   "metadata": {},
   "outputs": [
    {
     "name": "stdout",
     "output_type": "stream",
     "text": [
      "144\n",
      "54\n"
     ]
    }
   ],
   "source": [
    "newtext = newdata['text'].tolist()\n",
    "newstars = newdata['stars'].tolist()\n",
    "newstars = [float(star) for star in newstars]\n",
    "\n",
    "newsequences = tokenizer.texts_to_sequences(newtext)\n",
    "print(len(newsequences[1]))\n",
    "print(len(newsequences[2]))\n",
    "newdata_input = pad_sequences(newsequences, maxlen = maxlen)"
   ]
  },
  {
   "cell_type": "code",
   "execution_count": 50,
   "metadata": {},
   "outputs": [
    {
     "name": "stdout",
     "output_type": "stream",
     "text": [
      "[[   0    0    0 ...   32  400 5862]\n",
      " [   0    0    0 ... 2919   11 1144]\n",
      " [   0    0    0 ...    5    1  512]\n",
      " ...\n",
      " [   0    0    0 ...   17 1700 1357]\n",
      " [   0    0    0 ...  172   66 2091]\n",
      " [   0    0    0 ...  521   50   65]]\n",
      "[0.6 1.  0.6 1.  0.8 0.2 1.  1.  0.6 0.6]\n"
     ]
    }
   ],
   "source": [
    "newdata_labels = np.asarray(newstars)\n",
    "newdata_labels = newdata_labels/5\n",
    "newdata_input = np.asarray(newdata_input)\n",
    "#newdata_labels = np.where(newdata_labels < 0.21, 0.2, np.where(newdata_labels < 0.41, 0.4, np.where(newdata_labels < 0.61, 0.6, np.where(newdata_labels < 0.81, 0.8, 1.0))))\n",
    "print(newdata_input[:10])\n",
    "print(newdata_labels[:10])"
   ]
  },
  {
   "cell_type": "code",
   "execution_count": 51,
   "metadata": {},
   "outputs": [
    {
     "name": "stdout",
     "output_type": "stream",
     "text": [
      "                   0\n",
      "count  100000.000000\n",
      "mean        3.317550\n",
      "std         1.246895\n",
      "min         1.000000\n",
      "25%         2.000000\n",
      "50%         3.000000\n",
      "75%         4.000000\n",
      "max         5.000000\n",
      "0.33672\n",
      "0.3174306534359467\n",
      "0.36723599380378424\n"
     ]
    }
   ],
   "source": [
    "pred = model.predict(newdata_input)\n",
    "pred = np.where(pred < max1, 1, np.where(pred < max2, 2, np.where(pred < max3, 3, np.where(pred < max4, 4, 5))))\n",
    "print(pd.DataFrame(pred).describe())\n",
    "print(accuracy_score(newstars, pred))\n",
    "print(f1_score(newstars,pred, average = 'macro'))\n",
    "print(f1_score(newstars,pred, average = 'weighted'))\n"
   ]
  },
  {
   "cell_type": "markdown",
   "metadata": {},
   "source": [
    "Even though this does worse than the initial dataset we used (as expected), the results are still decent. The gap between the macro f1_score and the weighted f1_score imply that the data was heavily skewed and that our model at least did a decent job of predicting the less common star values."
   ]
  },
  {
   "cell_type": "code",
   "execution_count": 52,
   "metadata": {},
   "outputs": [
    {
     "data": {
      "image/png": "[encoded data removed]",
      "text/plain": [
       "<Figure size 432x288 with 1 Axes>"
      ]
     },
     "metadata": {
      "needs_background": "light"
     },
     "output_type": "display_data"
    }
   ],
   "source": [
    "corr = [0,0,0,0,0,0]\n",
    "tot = [0,0,0,0,0,0]\n",
    "for i in range(len(pred)):\n",
    "    if newstars[i] == pred[i]:\n",
    "        corr[int(newstars[i])] += 1\n",
    "    tot[int(newstars[i])] += 1\n",
    "    \n",
    "plt.plot(np.asarray(corr)/np.asarray(tot))\n",
    "plt.ylabel('Accuracy')\n",
    "plt.xlabel('Actual Rating')\n",
    "plt.show()"
   ]
  },
  {
   "cell_type": "markdown",
   "metadata": {},
   "source": [
    "Based on the graph, we can see that the model does the best at predicting 1 and 2 star reviews, and does the worse with 3 star reviews. We can hypothesize that negative words are easier to spot. It also makes sense that 3 star reviews would be hard to predict - it's hard to think of many specific words that would indicate a 3 star review."
   ]
  }
 ],
 "metadata": {
  "kernelspec": {
   "display_name": "Python 3 (ipykernel)",
   "language": "python",
   "name": "python3"
  },
  "language_info": {
   "codemirror_mode": {
    "name": "ipython",
    "version": 3
   },
   "file_extension": ".py",
   "mimetype": "text/x-python",
   "name": "python",
   "nbconvert_exporter": "python",
   "pygments_lexer": "ipython3",
   "version": "3.9.7"
  }
 },
 "nbformat": 4,
 "nbformat_minor": 2
}
