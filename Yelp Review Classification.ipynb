{
 "cells": [
  {
   "cell_type": "code",
   "execution_count": null,
   "metadata": {},
   "outputs": [],
   "source": []
  },
  {
   "cell_type": "code",
   "execution_count": null,
   "metadata": {},
   "outputs": [],
   "source": []
  },
  {
   "cell_type": "code",
   "execution_count": 161,
   "metadata": {},
   "outputs": [],
   "source": [
    "import warnings\n",
    "warnings.filterwarnings('ignore')"
   ]
  },
  {
   "cell_type": "code",
   "execution_count": 149,
   "metadata": {},
   "outputs": [],
   "source": [
    "import seaborn as sns\n",
    "from sklearn.preprocessing import OneHotEncoder\n",
    "from keras.losses import CategoricalCrossentropy\n",
    "from sklearn.metrics import precision_score, accuracy_score, recall_score, f1_score, roc_auc_score"
   ]
  },
  {
   "cell_type": "code",
   "execution_count": 2,
   "metadata": {},
   "outputs": [],
   "source": [
    "from keras.preprocessing.text import Tokenizer\n",
    "from keras.preprocessing.sequence import pad_sequences\n",
    "import numpy as np\n",
    "import pandas as pd\n",
    "import matplotlib.pyplot as plt\n",
    "%matplotlib inline \n",
    "from keras.models import Sequential\n",
    "from keras.layers import LSTM\n",
    "from keras.layers import Embedding, Conv1D,MaxPooling1D, Flatten, Dense,Dropout,LSTM,Bidirectional\n",
    "#from keras.optimizers import RMSprop"
   ]
  },
  {
   "cell_type": "markdown",
   "metadata": {},
   "source": [
    "### Load Data"
   ]
  },
  {
   "cell_type": "code",
   "execution_count": 3,
   "metadata": {},
   "outputs": [],
   "source": [
    "data = pd.read_csv('yelp.csv')"
   ]
  },
  {
   "cell_type": "code",
   "execution_count": 4,
   "metadata": {},
   "outputs": [],
   "source": [
    "data = data.dropna()\n",
    "text = data['text'].tolist()\n",
    "binstars = data['stars'].tolist()\n",
    "binstars = [int(star) for star in binstars]"
   ]
  },
  {
   "cell_type": "code",
   "execution_count": 5,
   "metadata": {},
   "outputs": [
    {
     "data": {
      "text/plain": [
       "<AxesSubplot:ylabel='Count'>"
      ]
     },
     "execution_count": 5,
     "metadata": {},
     "output_type": "execute_result"
    },
    {
     "data": {
      "image/png": "[encoded data removed]",
      "text/plain": [
       "<Figure size 432x288 with 1 Axes>"
      ]
     },
     "metadata": {
      "needs_background": "light"
     },
     "output_type": "display_data"
    }
   ],
   "source": [
    "sns.histplot(x = binstars)"
   ]
  },
  {
   "cell_type": "markdown",
   "metadata": {},
   "source": [
    "### Make a balanced dataset of positive and negative review -- 50:50"
   ]
  },
  {
   "cell_type": "code",
   "execution_count": 6,
   "metadata": {},
   "outputs": [],
   "source": [
    "balanced_texts = []   # contains 50000 positive reviews and 50000 negative reviews\n",
    "balanced_labels = []  \n",
    "all_texts = []\n",
    "all_labels = []\n",
    "balanced = []\n",
    "count = 500  \n",
    "stars = [0, 0, 0, 0, 0]\n",
    "for i in range(len(text)):\n",
    "    sentiment = binstars[i]\n",
    "    if stars[sentiment-1] < count:\n",
    "        balanced_texts.append(text[i])\n",
    "        balanced_labels.append(binstars[i])\n",
    "        balanced.append(i)\n",
    "        stars[sentiment-1] += 1\n",
    "    all_texts.append(text[i])\n",
    "    all_labels.append(binstars[i])"
   ]
  },
  {
   "cell_type": "code",
   "execution_count": 7,
   "metadata": {},
   "outputs": [],
   "source": [
    "# cut reviews after 200 words\n",
    "maxlen = 200 \n",
    "# Number of words to consider as features\n",
    "# restrict the yelp reviews to the top 1000 most common words\n",
    "max_words = 10000  \n",
    "\n",
    "#training_samples = 75000  #  train on 75000 samples\n",
    "#test_samples = 25000  # test on 25000 samples"
   ]
  },
  {
   "cell_type": "code",
   "execution_count": 8,
   "metadata": {},
   "outputs": [
    {
     "name": "stdout",
     "output_type": "stream",
     "text": [
      "260\n",
      "15\n"
     ]
    }
   ],
   "source": [
    "# create a tokenizer and it will ignore all except the 1000 most-common words\n",
    "tokenizer = Tokenizer(num_words = max_words)\n",
    "# use tokenizer to calculate the frequency of each word in dataset.\n",
    "tokenizer.fit_on_texts(all_texts)\n",
    "# convert all of reviews to lists of integers\n",
    "sequences = tokenizer.texts_to_sequences(all_texts)\n",
    "print(len(sequences[1]))\n",
    "print(len(sequences[2]))\n",
    "\n",
    "\n",
    "# use pad_sequence to make traning samples the same size, fill with zeros\n",
    "data_input = pad_sequences(sequences, maxlen = maxlen)\n",
    "labels = np.asarray(all_labels)"
   ]
  },
  {
   "cell_type": "markdown",
   "metadata": {},
   "source": [
    "### train and test (validation) split"
   ]
  },
  {
   "cell_type": "code",
   "execution_count": 9,
   "metadata": {},
   "outputs": [
    {
     "name": "stdout",
     "output_type": "stream",
     "text": [
      " x_train (2500, 200)\n",
      " y_train (2500,)\n"
     ]
    }
   ],
   "source": [
    "indices = np.arange(data_input.shape[0])\n",
    "#np.random.shuffle(indices)\n",
    "data_input = data_input[indices]\n",
    "labels = labels[indices]\n",
    "\n",
    "# train on 75000，test on 25000\n",
    "#x_train = data_input[:training_samples]\n",
    "#y_train = labels[:training_samples]\n",
    "#x_test = data_input[training_samples: training_samples + test_samples]\n",
    "#y_test = labels[training_samples: training_samples + test_samples]\n",
    "#print(\" x_train\",x_train.shape)\n",
    "#print(\" y_train\",y_train.shape)\n",
    "\n",
    "x_train = np.asarray(data_input) [balanced]\n",
    "y_train = np.asarray(labels) [balanced]\n",
    "x_test = np.asarray(data_input)\n",
    "y_test = np.asarray(labels)\n",
    "print(\" x_train\",x_train.shape)\n",
    "print(\" y_train\",y_train.shape)\n",
    "\n",
    "y_train = y_train / 5\n",
    "y_test = y_test / 5\n",
    "#ohe = OneHotEncoder()\n",
    "#y_train = y_train.reshape((2500,1))\n",
    "#y_test = y_test.reshape((10000,1))\n",
    "#ohe.fit_transform(y_train)\n",
    "#ohe.fit_transform(y_test)"
   ]
  },
  {
   "cell_type": "markdown",
   "metadata": {},
   "source": [
    " ### Model 1 - Using Embedding layer and LSTM"
   ]
  },
  {
   "cell_type": "markdown",
   "metadata": {},
   "source": [
    "dis one sucks LOL"
   ]
  },
  {
   "cell_type": "code",
   "execution_count": 10,
   "metadata": {},
   "outputs": [
    {
     "name": "stdout",
     "output_type": "stream",
     "text": [
      "Model: \"sequential\"\n",
      "_________________________________________________________________\n",
      " Layer (type)                Output Shape              Param #   \n",
      "=================================================================\n",
      " embedding (Embedding)       (None, 200, 64)           640000    \n",
      "                                                                 \n",
      " lstm (LSTM)                 (None, 64)                33024     \n",
      "                                                                 \n",
      " dense (Dense)               (None, 1)                 65        \n",
      "                                                                 \n",
      "=================================================================\n",
      "Total params: 673,089\n",
      "Trainable params: 673,089\n",
      "Non-trainable params: 0\n",
      "_________________________________________________________________\n"
     ]
    }
   ],
   "source": [
    "max_words = 10000 \n",
    "maxlen = 200\n",
    "model = Sequential()\n",
    "model.add(Embedding(max_words, 64,input_length = maxlen))\n",
    "model.add(LSTM(64,dropout=0.2, recurrent_dropout=0.2))\n",
    "model.add(Dense(1, activation='sigmoid'))\n",
    "\n",
    "model.compile(optimizer='adam',\n",
    "              loss='mean_squared_error',\n",
    "              metrics=['mean_squared_error'])\n",
    "model.summary()"
   ]
  },
  {
   "cell_type": "code",
   "execution_count": 11,
   "metadata": {},
   "outputs": [
    {
     "name": "stdout",
     "output_type": "stream",
     "text": [
      "Epoch 1/5\n",
      "16/16 [==============================] - 19s 818ms/step - loss: 0.0853 - mean_squared_error: 0.0853 - val_loss: 0.1690 - val_mean_squared_error: 0.1690\n",
      "Epoch 2/5\n",
      "16/16 [==============================] - 12s 721ms/step - loss: 0.0668 - mean_squared_error: 0.0668 - val_loss: 0.1426 - val_mean_squared_error: 0.1426\n",
      "Epoch 3/5\n",
      "16/16 [==============================] - 12s 720ms/step - loss: 0.0600 - mean_squared_error: 0.0600 - val_loss: 0.1218 - val_mean_squared_error: 0.1218\n",
      "Epoch 4/5\n",
      "16/16 [==============================] - 14s 899ms/step - loss: 0.0434 - mean_squared_error: 0.0434 - val_loss: 0.1151 - val_mean_squared_error: 0.1151\n",
      "Epoch 5/5\n",
      "16/16 [==============================] - 13s 811ms/step - loss: 0.0269 - mean_squared_error: 0.0269 - val_loss: 0.0825 - val_mean_squared_error: 0.0825\n"
     ]
    }
   ],
   "source": [
    "history = model.fit(x_train, y_train,\n",
    "                    epochs=5,\n",
    "                    batch_size=128,\n",
    "                    validation_split=0.2)"
   ]
  },
  {
   "cell_type": "code",
   "execution_count": 12,
   "metadata": {},
   "outputs": [
    {
     "data": {
      "image/png": "[encoded data removed]",
      "text/plain": [
       "<Figure size 432x288 with 1 Axes>"
      ]
     },
     "metadata": {
      "needs_background": "light"
     },
     "output_type": "display_data"
    },
    {
     "data": {
      "image/png": "[encoded data removed]",
      "text/plain": [
       "<Figure size 432x288 with 1 Axes>"
      ]
     },
     "metadata": {
      "needs_background": "light"
     },
     "output_type": "display_data"
    }
   ],
   "source": [
    "acc = history.history['mean_squared_error']\n",
    "val_acc = history.history['val_mean_squared_error']\n",
    "loss = history.history['loss']\n",
    "val_loss = history.history['val_loss']\n",
    "\n",
    "epochs = range(len(acc))\n",
    "\n",
    "plt.plot(epochs, acc, 'bo', label='Training acc')\n",
    "plt.plot(epochs, val_acc, 'b', label='Validation acc')\n",
    "plt.title('Training and validation accuracy')\n",
    "plt.legend()\n",
    "\n",
    "plt.figure()\n",
    "\n",
    "plt.plot(epochs, loss, 'bo', label='Training loss')\n",
    "plt.plot(epochs, val_loss, 'b', label='Validation loss')\n",
    "plt.title('Training and validation loss')\n",
    "plt.legend()\n",
    "\n",
    "plt.show()"
   ]
  },
  {
   "cell_type": "code",
   "execution_count": 13,
   "metadata": {},
   "outputs": [
    {
     "name": "stdout",
     "output_type": "stream",
     "text": [
      "313/313 [==============================] - 18s 56ms/step - loss: 0.0398 - mean_squared_error: 0.0398\n"
     ]
    },
    {
     "data": {
      "text/plain": [
       "[0.03977043926715851, 0.03977043926715851]"
      ]
     },
     "execution_count": 13,
     "metadata": {},
     "output_type": "execute_result"
    }
   ],
   "source": [
    "model.evaluate(x_test, y_test)"
   ]
  },
  {
   "cell_type": "code",
   "execution_count": 14,
   "metadata": {},
   "outputs": [
    {
     "name": "stdout",
     "output_type": "stream",
     "text": [
      "[0.23508042]\n",
      "[0.44192517]\n",
      "[0.57308984]\n",
      "[0.73234755]\n",
      "[0.8723601]\n",
      "[0.9883945]\n"
     ]
    },
    {
     "data": {
      "text/html": [
       "<div>\n",
       "<style scoped>\n",
       "    .dataframe tbody tr th:only-of-type {\n",
       "        vertical-align: middle;\n",
       "    }\n",
       "\n",
       "    .dataframe tbody tr th {\n",
       "        vertical-align: top;\n",
       "    }\n",
       "\n",
       "    .dataframe thead th {\n",
       "        text-align: right;\n",
       "    }\n",
       "</style>\n",
       "<table border=\"1\" class=\"dataframe\">\n",
       "  <thead>\n",
       "    <tr style=\"text-align: right;\">\n",
       "      <th></th>\n",
       "      <th>0</th>\n",
       "    </tr>\n",
       "  </thead>\n",
       "  <tbody>\n",
       "    <tr>\n",
       "      <th>count</th>\n",
       "      <td>2500.000000</td>\n",
       "    </tr>\n",
       "    <tr>\n",
       "      <th>mean</th>\n",
       "      <td>0.651416</td>\n",
       "    </tr>\n",
       "    <tr>\n",
       "      <th>std</th>\n",
       "      <td>0.202299</td>\n",
       "    </tr>\n",
       "    <tr>\n",
       "      <th>min</th>\n",
       "      <td>0.235080</td>\n",
       "    </tr>\n",
       "    <tr>\n",
       "      <th>25%</th>\n",
       "      <td>0.473987</td>\n",
       "    </tr>\n",
       "    <tr>\n",
       "      <th>50%</th>\n",
       "      <td>0.644934</td>\n",
       "    </tr>\n",
       "    <tr>\n",
       "      <th>75%</th>\n",
       "      <td>0.843038</td>\n",
       "    </tr>\n",
       "    <tr>\n",
       "      <th>max</th>\n",
       "      <td>0.988394</td>\n",
       "    </tr>\n",
       "  </tbody>\n",
       "</table>\n",
       "</div>"
      ],
      "text/plain": [
       "                 0\n",
       "count  2500.000000\n",
       "mean      0.651416\n",
       "std       0.202299\n",
       "min       0.235080\n",
       "25%       0.473987\n",
       "50%       0.644934\n",
       "75%       0.843038\n",
       "max       0.988394"
      ]
     },
     "execution_count": 14,
     "metadata": {},
     "output_type": "execute_result"
    }
   ],
   "source": [
    "train_pred = model.predict(x_train)\n",
    "train_pred = np.reshape(train_pred, (2500,1))\n",
    "train_pred = np.sort(train_pred, axis = 0)\n",
    "print(train_pred[0])\n",
    "print(train_pred[499])\n",
    "print(train_pred[999])\n",
    "print(train_pred[1499])\n",
    "print(train_pred[1999])\n",
    "print(train_pred[2499])\n",
    "max1 = train_pred[499]\n",
    "max2 = train_pred[999]\n",
    "max3 = train_pred[1499]\n",
    "max4 = train_pred[1999]\n",
    "pd.DataFrame(train_pred).describe()"
   ]
  },
  {
   "cell_type": "code",
   "execution_count": 15,
   "metadata": {},
   "outputs": [
    {
     "data": {
      "text/html": [
       "<div>\n",
       "<style scoped>\n",
       "    .dataframe tbody tr th:only-of-type {\n",
       "        vertical-align: middle;\n",
       "    }\n",
       "\n",
       "    .dataframe tbody tr th {\n",
       "        vertical-align: top;\n",
       "    }\n",
       "\n",
       "    .dataframe thead th {\n",
       "        text-align: right;\n",
       "    }\n",
       "</style>\n",
       "<table border=\"1\" class=\"dataframe\">\n",
       "  <thead>\n",
       "    <tr style=\"text-align: right;\">\n",
       "      <th></th>\n",
       "      <th>0</th>\n",
       "    </tr>\n",
       "  </thead>\n",
       "  <tbody>\n",
       "    <tr>\n",
       "      <th>count</th>\n",
       "      <td>10000.000000</td>\n",
       "    </tr>\n",
       "    <tr>\n",
       "      <th>mean</th>\n",
       "      <td>0.707969</td>\n",
       "    </tr>\n",
       "    <tr>\n",
       "      <th>std</th>\n",
       "      <td>0.171643</td>\n",
       "    </tr>\n",
       "    <tr>\n",
       "      <th>min</th>\n",
       "      <td>0.235080</td>\n",
       "    </tr>\n",
       "    <tr>\n",
       "      <th>25%</th>\n",
       "      <td>0.580953</td>\n",
       "    </tr>\n",
       "    <tr>\n",
       "      <th>50%</th>\n",
       "      <td>0.730109</td>\n",
       "    </tr>\n",
       "    <tr>\n",
       "      <th>75%</th>\n",
       "      <td>0.854034</td>\n",
       "    </tr>\n",
       "    <tr>\n",
       "      <th>max</th>\n",
       "      <td>0.989015</td>\n",
       "    </tr>\n",
       "  </tbody>\n",
       "</table>\n",
       "</div>"
      ],
      "text/plain": [
       "                  0\n",
       "count  10000.000000\n",
       "mean       0.707969\n",
       "std        0.171643\n",
       "min        0.235080\n",
       "25%        0.580953\n",
       "50%        0.730109\n",
       "75%        0.854034\n",
       "max        0.989015"
      ]
     },
     "execution_count": 15,
     "metadata": {},
     "output_type": "execute_result"
    }
   ],
   "source": [
    "pred = model.predict(x_test)\n",
    "pd.DataFrame(pred).describe()"
   ]
  },
  {
   "cell_type": "code",
   "execution_count": 16,
   "metadata": {},
   "outputs": [
    {
     "name": "stdout",
     "output_type": "stream",
     "text": [
      "                  0\n",
      "count  10000.000000\n",
      "mean       3.378900\n",
      "std        1.210984\n",
      "min        1.000000\n",
      "25%        3.000000\n",
      "50%        3.000000\n",
      "75%        4.000000\n",
      "max        5.000000\n"
     ]
    },
    {
     "data": {
      "text/plain": [
       "(0.3776, 0.3776, 0.3776)"
      ]
     },
     "execution_count": 16,
     "metadata": {},
     "output_type": "execute_result"
    }
   ],
   "source": [
    "pred = model.predict(x_test)\n",
    "pred = np.where(pred < max1, 1, np.where(pred < max2, 2, np.where(pred < max3, 3, np.where(pred < max4, 4, 5))))\n",
    "print(pd.DataFrame(pred).describe())\n",
    "print(accuracy_score(newstars, pred))\n",
    "print(f1_score(newstars,pred, average = 'macro'))\n",
    "print(f1_score(newstars,pred, average = 'weighted'))\n",
    "#diff = (y_test - pred)\n",
    "#y_test = np.reshape(y_test, (10000,1))\n",
    "#diff = np.reshape(diff, (10000,1))\n",
    "#diff = np.where(diff == 0, 1, 0)\n",
    "#df = pd.DataFrame(np.concatenate((y_test, pred, diff), axis = 1), columns=['actual', 'prediction', 'correctness'])\n",
    "#df.describe()"
   ]
  },
  {
   "cell_type": "code",
   "execution_count": 17,
   "metadata": {},
   "outputs": [
    {
     "data": {
      "text/html": [
       "<div>\n",
       "<style scoped>\n",
       "    .dataframe tbody tr th:only-of-type {\n",
       "        vertical-align: middle;\n",
       "    }\n",
       "\n",
       "    .dataframe tbody tr th {\n",
       "        vertical-align: top;\n",
       "    }\n",
       "\n",
       "    .dataframe thead th {\n",
       "        text-align: right;\n",
       "    }\n",
       "</style>\n",
       "<table border=\"1\" class=\"dataframe\">\n",
       "  <thead>\n",
       "    <tr style=\"text-align: right;\">\n",
       "      <th></th>\n",
       "      <th>0</th>\n",
       "    </tr>\n",
       "  </thead>\n",
       "  <tbody>\n",
       "    <tr>\n",
       "      <th>count</th>\n",
       "      <td>10000.000000</td>\n",
       "    </tr>\n",
       "    <tr>\n",
       "      <th>mean</th>\n",
       "      <td>3.378900</td>\n",
       "    </tr>\n",
       "    <tr>\n",
       "      <th>std</th>\n",
       "      <td>1.210984</td>\n",
       "    </tr>\n",
       "    <tr>\n",
       "      <th>min</th>\n",
       "      <td>1.000000</td>\n",
       "    </tr>\n",
       "    <tr>\n",
       "      <th>25%</th>\n",
       "      <td>3.000000</td>\n",
       "    </tr>\n",
       "    <tr>\n",
       "      <th>50%</th>\n",
       "      <td>3.000000</td>\n",
       "    </tr>\n",
       "    <tr>\n",
       "      <th>75%</th>\n",
       "      <td>4.000000</td>\n",
       "    </tr>\n",
       "    <tr>\n",
       "      <th>max</th>\n",
       "      <td>5.000000</td>\n",
       "    </tr>\n",
       "  </tbody>\n",
       "</table>\n",
       "</div>"
      ],
      "text/plain": [
       "                  0\n",
       "count  10000.000000\n",
       "mean       3.378900\n",
       "std        1.210984\n",
       "min        1.000000\n",
       "25%        3.000000\n",
       "50%        3.000000\n",
       "75%        4.000000\n",
       "max        5.000000"
      ]
     },
     "execution_count": 17,
     "metadata": {},
     "output_type": "execute_result"
    }
   ],
   "source": [
    "pd.DataFrame(pred).describe()"
   ]
  },
  {
   "cell_type": "code",
   "execution_count": 18,
   "metadata": {},
   "outputs": [],
   "source": [
    "max_words = 10000 \n",
    "maxlen = 200\n",
    "model = Sequential()\n",
    "model.add(Embedding(max_words, 64,input_length = maxlen))\n",
    "model.add(LSTM(64,dropout=0.2, recurrent_dropout=0.2))\n",
    "model.add(Dense(1, activation='sigmoid'))\n",
    "\n",
    "model.compile(optimizer='adam',\n",
    "              loss='mean_squared_error',\n",
    "              metrics=['mean_squared_error'])"
   ]
  },
  {
   "cell_type": "code",
   "execution_count": 19,
   "metadata": {},
   "outputs": [
    {
     "name": "stdout",
     "output_type": "stream",
     "text": [
      "Epoch 1/10\n",
      "16/16 [==============================] - 18s 730ms/step - loss: 0.0841 - mean_squared_error: 0.0841 - val_loss: 0.1555 - val_mean_squared_error: 0.1555\n",
      "Epoch 2/10\n",
      "16/16 [==============================] - 15s 923ms/step - loss: 0.0680 - mean_squared_error: 0.0680 - val_loss: 0.1619 - val_mean_squared_error: 0.1619\n",
      "Epoch 3/10\n",
      "16/16 [==============================] - 14s 888ms/step - loss: 0.0605 - mean_squared_error: 0.0605 - val_loss: 0.1447 - val_mean_squared_error: 0.1447\n",
      "Epoch 4/10\n",
      "16/16 [==============================] - 14s 884ms/step - loss: 0.0441 - mean_squared_error: 0.0441 - val_loss: 0.0766 - val_mean_squared_error: 0.0766\n",
      "Epoch 5/10\n",
      "16/16 [==============================] - 14s 886ms/step - loss: 0.0273 - mean_squared_error: 0.0273 - val_loss: 0.0728 - val_mean_squared_error: 0.0728\n",
      "Epoch 6/10\n",
      "16/16 [==============================] - 14s 857ms/step - loss: 0.0181 - mean_squared_error: 0.0181 - val_loss: 0.0703 - val_mean_squared_error: 0.0703\n",
      "Epoch 7/10\n",
      "16/16 [==============================] - 15s 939ms/step - loss: 0.0146 - mean_squared_error: 0.0146 - val_loss: 0.0681 - val_mean_squared_error: 0.0681\n",
      "Epoch 8/10\n",
      "16/16 [==============================] - 13s 841ms/step - loss: 0.0106 - mean_squared_error: 0.0106 - val_loss: 0.0826 - val_mean_squared_error: 0.0826\n",
      "Epoch 9/10\n",
      "16/16 [==============================] - 12s 775ms/step - loss: 0.0078 - mean_squared_error: 0.0078 - val_loss: 0.0690 - val_mean_squared_error: 0.0690\n",
      "Epoch 10/10\n",
      "16/16 [==============================] - 12s 727ms/step - loss: 0.0063 - mean_squared_error: 0.0063 - val_loss: 0.0648 - val_mean_squared_error: 0.0648\n"
     ]
    }
   ],
   "source": [
    "history = model.fit(x_train, y_train,\n",
    "                    epochs=10,\n",
    "                    batch_size=128,\n",
    "                    validation_split=0.2)"
   ]
  },
  {
   "cell_type": "code",
   "execution_count": 20,
   "metadata": {},
   "outputs": [
    {
     "data": {
      "image/png": "[encoded data removed]",
      "text/plain": [
       "<Figure size 432x288 with 1 Axes>"
      ]
     },
     "metadata": {
      "needs_background": "light"
     },
     "output_type": "display_data"
    },
    {
     "data": {
      "image/png": "[encoded data removed]",
      "text/plain": [
       "<Figure size 432x288 with 1 Axes>"
      ]
     },
     "metadata": {
      "needs_background": "light"
     },
     "output_type": "display_data"
    }
   ],
   "source": [
    "acc = history.history['mean_squared_error']\n",
    "val_acc = history.history['val_mean_squared_error']\n",
    "loss = history.history['loss']\n",
    "val_loss = history.history['val_loss']\n",
    "\n",
    "epochs = range(len(acc))\n",
    "\n",
    "plt.plot(epochs, acc, 'bo', label='Training acc')\n",
    "plt.plot(epochs, val_acc, 'b', label='Validation acc')\n",
    "plt.title('Training and validation accuracy')\n",
    "plt.legend()\n",
    "\n",
    "plt.figure()\n",
    "\n",
    "plt.plot(epochs, loss, 'bo', label='Training loss')\n",
    "plt.plot(epochs, val_loss, 'b', label='Validation loss')\n",
    "plt.title('Training and validation loss')\n",
    "plt.legend()\n",
    "\n",
    "plt.show()"
   ]
  },
  {
   "cell_type": "code",
   "execution_count": 21,
   "metadata": {},
   "outputs": [
    {
     "name": "stdout",
     "output_type": "stream",
     "text": [
      "313/313 [==============================] - 16s 52ms/step - loss: 0.0431 - mean_squared_error: 0.0431\n"
     ]
    },
    {
     "data": {
      "text/plain": [
       "[0.04307663440704346, 0.04307663440704346]"
      ]
     },
     "execution_count": 21,
     "metadata": {},
     "output_type": "execute_result"
    }
   ],
   "source": [
    "model.evaluate(x_test, y_test)"
   ]
  },
  {
   "cell_type": "code",
   "execution_count": 22,
   "metadata": {},
   "outputs": [
    {
     "name": "stdout",
     "output_type": "stream",
     "text": [
      "[0.1557813]\n",
      "[0.36654174]\n",
      "[0.5409685]\n",
      "[0.73363423]\n",
      "[0.8865789]\n",
      "[0.98593724]\n",
      "                  0\n",
      "count  10000.000000\n",
      "mean       3.348600\n",
      "std        1.234678\n",
      "min        1.000000\n",
      "25%        2.000000\n",
      "50%        3.000000\n",
      "75%        4.000000\n",
      "max        5.000000\n"
     ]
    },
    {
     "data": {
      "text/plain": [
       "0.4283"
      ]
     },
     "execution_count": 22,
     "metadata": {},
     "output_type": "execute_result"
    }
   ],
   "source": [
    "train_pred = model.predict(x_train)\n",
    "train_pred = np.reshape(train_pred, (2500,1))\n",
    "train_pred = np.sort(train_pred, axis = 0)\n",
    "print(train_pred[0])\n",
    "print(train_pred[499])\n",
    "print(train_pred[999])\n",
    "print(train_pred[1499])\n",
    "print(train_pred[1999])\n",
    "print(train_pred[2499])\n",
    "max1 = train_pred[499]\n",
    "max2 = train_pred[999]\n",
    "max3 = train_pred[1499]\n",
    "max4 = train_pred[1999]\n",
    "\n",
    "pred = model.predict(x_test)\n",
    "pred = np.where(pred < max1, 1, np.where(pred < max2, 2, np.where(pred < max3, 3, np.where(pred < max4, 4, 5))))\n",
    "print(pd.DataFrame(pred).describe())\n",
    "print(accuracy_score(newstars, pred))\n",
    "print(f1_score(newstars,pred, average = 'macro'))\n",
    "print(f1_score(newstars,pred, average = 'weighted'))"
   ]
  },
  {
   "cell_type": "markdown",
   "metadata": {},
   "source": [
    " ### Model 2 -  Using combination of CNN and RNN"
   ]
  },
  {
   "cell_type": "code",
   "execution_count": 23,
   "metadata": {},
   "outputs": [
    {
     "name": "stdout",
     "output_type": "stream",
     "text": [
      "Model: \"sequential_2\"\n",
      "_________________________________________________________________\n",
      " Layer (type)                Output Shape              Param #   \n",
      "=================================================================\n",
      " embedding_2 (Embedding)     (None, 200, 128)          1280000   \n",
      "                                                                 \n",
      " dropout (Dropout)           (None, 200, 128)          0         \n",
      "                                                                 \n",
      " conv1d (Conv1D)             (None, 196, 64)           41024     \n",
      "                                                                 \n",
      " max_pooling1d (MaxPooling1D  (None, 65, 64)           0         \n",
      " )                                                               \n",
      "                                                                 \n",
      " lstm_2 (LSTM)               (None, 128)               98816     \n",
      "                                                                 \n",
      " dense_2 (Dense)             (None, 1)                 129       \n",
      "                                                                 \n",
      "=================================================================\n",
      "Total params: 1,419,969\n",
      "Trainable params: 1,419,969\n",
      "Non-trainable params: 0\n",
      "_________________________________________________________________\n"
     ]
    }
   ],
   "source": [
    "model_conv = Sequential()\n",
    "model_conv.add(Embedding(max_words, 128, input_length=maxlen))\n",
    "model_conv.add(Dropout(0.2))\n",
    "model_conv.add(Conv1D(64, 5, activation='relu'))\n",
    "model_conv.add(MaxPooling1D(pool_size=3))\n",
    "model_conv.add(LSTM(128))\n",
    "model_conv.add(Dense(1, activation='sigmoid'))\n",
    "model_conv.compile(loss='mean_squared_error', optimizer='adam', metrics=['mean_squared_error'])\n",
    "model_conv.summary()"
   ]
  },
  {
   "cell_type": "code",
   "execution_count": 24,
   "metadata": {},
   "outputs": [
    {
     "name": "stdout",
     "output_type": "stream",
     "text": [
      "Epoch 1/10\n",
      "16/16 [==============================] - 12s 443ms/step - loss: 0.0790 - mean_squared_error: 0.0790 - val_loss: 0.1003 - val_mean_squared_error: 0.1003\n",
      "Epoch 2/10\n",
      "16/16 [==============================] - 6s 372ms/step - loss: 0.0678 - mean_squared_error: 0.0678 - val_loss: 0.1562 - val_mean_squared_error: 0.1562\n",
      "Epoch 3/10\n",
      "16/16 [==============================] - 6s 400ms/step - loss: 0.0590 - mean_squared_error: 0.0590 - val_loss: 0.1263 - val_mean_squared_error: 0.1263\n",
      "Epoch 4/10\n",
      "16/16 [==============================] - 9s 549ms/step - loss: 0.0413 - mean_squared_error: 0.0413 - val_loss: 0.0720 - val_mean_squared_error: 0.0720\n",
      "Epoch 5/10\n",
      "16/16 [==============================] - 8s 507ms/step - loss: 0.0227 - mean_squared_error: 0.0227 - val_loss: 0.0694 - val_mean_squared_error: 0.0694\n",
      "Epoch 6/10\n",
      "16/16 [==============================] - 7s 424ms/step - loss: 0.0139 - mean_squared_error: 0.0139 - val_loss: 0.0613 - val_mean_squared_error: 0.0613\n",
      "Epoch 7/10\n",
      "16/16 [==============================] - 7s 422ms/step - loss: 0.0091 - mean_squared_error: 0.0091 - val_loss: 0.0620 - val_mean_squared_error: 0.0620\n",
      "Epoch 8/10\n",
      "16/16 [==============================] - 8s 481ms/step - loss: 0.0064 - mean_squared_error: 0.0064 - val_loss: 0.0741 - val_mean_squared_error: 0.0741\n",
      "Epoch 9/10\n",
      "16/16 [==============================] - 8s 489ms/step - loss: 0.0048 - mean_squared_error: 0.0048 - val_loss: 0.0714 - val_mean_squared_error: 0.0714\n",
      "Epoch 10/10\n",
      "16/16 [==============================] - 7s 431ms/step - loss: 0.0040 - mean_squared_error: 0.0040 - val_loss: 0.0727 - val_mean_squared_error: 0.0727\n"
     ]
    }
   ],
   "source": [
    "history = model_conv.fit(x_train, y_train,\n",
    "                    epochs=10,\n",
    "                    batch_size=128,\n",
    "                    validation_split=0.2)"
   ]
  },
  {
   "cell_type": "code",
   "execution_count": 25,
   "metadata": {},
   "outputs": [
    {
     "data": {
      "image/png": "[encoded data removed]",
      "text/plain": [
       "<Figure size 432x288 with 1 Axes>"
      ]
     },
     "metadata": {
      "needs_background": "light"
     },
     "output_type": "display_data"
    },
    {
     "data": {
      "image/png": "[encoded data removed]",
      "text/plain": [
       "<Figure size 432x288 with 1 Axes>"
      ]
     },
     "metadata": {
      "needs_background": "light"
     },
     "output_type": "display_data"
    }
   ],
   "source": [
    "acc = history.history['mean_squared_error']\n",
    "val_acc = history.history['val_mean_squared_error']\n",
    "loss = history.history['loss']\n",
    "val_loss = history.history['val_loss']\n",
    "\n",
    "epochs = range(len(acc))\n",
    "\n",
    "plt.plot(epochs, acc, 'bo', label='Training acc')\n",
    "plt.plot(epochs, val_acc, 'b', label='Validation acc')\n",
    "plt.title('Training and validation accuracy')\n",
    "plt.legend()\n",
    "\n",
    "plt.figure()\n",
    "\n",
    "plt.plot(epochs, loss, 'bo', label='Training loss')\n",
    "plt.plot(epochs, val_loss, 'b', label='Validation loss')\n",
    "plt.title('Training and validation loss')\n",
    "plt.legend()\n",
    "\n",
    "plt.show()"
   ]
  },
  {
   "cell_type": "code",
   "execution_count": 26,
   "metadata": {},
   "outputs": [
    {
     "name": "stdout",
     "output_type": "stream",
     "text": [
      "313/313 [==============================] - 20s 65ms/step - loss: 0.0453 - mean_squared_error: 0.0453\n"
     ]
    },
    {
     "data": {
      "text/plain": [
       "[0.04533024877309799, 0.04533024877309799]"
      ]
     },
     "execution_count": 26,
     "metadata": {},
     "output_type": "execute_result"
    }
   ],
   "source": [
    "model_conv.evaluate(x_test, y_test)"
   ]
  },
  {
   "cell_type": "code",
   "execution_count": 27,
   "metadata": {},
   "outputs": [
    {
     "name": "stdout",
     "output_type": "stream",
     "text": [
      "[0.1557813]\n",
      "[0.36654174]\n",
      "[0.5409685]\n",
      "[0.73363423]\n",
      "[0.8865789]\n",
      "[0.98593724]\n",
      "                  0\n",
      "count  10000.000000\n",
      "mean       3.348600\n",
      "std        1.234678\n",
      "min        1.000000\n",
      "25%        2.000000\n",
      "50%        3.000000\n",
      "75%        4.000000\n",
      "max        5.000000\n"
     ]
    },
    {
     "data": {
      "text/plain": [
       "0.4283"
      ]
     },
     "execution_count": 27,
     "metadata": {},
     "output_type": "execute_result"
    }
   ],
   "source": [
    "train_pred = model.predict(x_train)\n",
    "train_pred = np.reshape(train_pred, (2500,1))\n",
    "train_pred = np.sort(train_pred, axis = 0)\n",
    "print(train_pred[0])\n",
    "print(train_pred[499])\n",
    "print(train_pred[999])\n",
    "print(train_pred[1499])\n",
    "print(train_pred[1999])\n",
    "print(train_pred[2499])\n",
    "max1 = train_pred[499]\n",
    "max2 = train_pred[999]\n",
    "max3 = train_pred[1499]\n",
    "max4 = train_pred[1999]\n",
    "\n",
    "pred = model.predict(x_test)\n",
    "pred = np.where(pred < max1, 1, np.where(pred < max2, 2, np.where(pred < max3, 3, np.where(pred < max4, 4, 5))))\n",
    "print(pd.DataFrame(pred).describe())\n",
    "print(accuracy_score(newstars, pred))\n",
    "print(f1_score(newstars,pred, average = 'macro'))\n",
    "print(f1_score(newstars,pred, average = 'weighted'))"
   ]
  },
  {
   "cell_type": "markdown",
   "metadata": {},
   "source": [
    "## comment\n",
    "For the first two epochs, the training accuracy and validation accuract are simiar, which means that the patterns or ruls network learns on the training generalize well to the unseen validation set. However, after two epochs, this network has overfitted the training data."
   ]
  },
  {
   "cell_type": "markdown",
   "metadata": {},
   "source": [
    "#  Using bidirectional RNNs"
   ]
  },
  {
   "cell_type": "code",
   "execution_count": 28,
   "metadata": {},
   "outputs": [],
   "source": [
    "from keras import backend as K\n",
    "K.clear_session()"
   ]
  },
  {
   "cell_type": "code",
   "execution_count": 29,
   "metadata": {},
   "outputs": [
    {
     "name": "stdout",
     "output_type": "stream",
     "text": [
      "Model: \"sequential\"\n",
      "_________________________________________________________________\n",
      " Layer (type)                Output Shape              Param #   \n",
      "=================================================================\n",
      " embedding (Embedding)       (None, 200, 128)          1280000   \n",
      "                                                                 \n",
      " bidirectional (Bidirectiona  (None, 256)              263168    \n",
      " l)                                                              \n",
      "                                                                 \n",
      " dense (Dense)               (None, 1)                 257       \n",
      "                                                                 \n",
      "=================================================================\n",
      "Total params: 1,543,425\n",
      "Trainable params: 1,543,425\n",
      "Non-trainable params: 0\n",
      "_________________________________________________________________\n"
     ]
    }
   ],
   "source": [
    "model = Sequential()\n",
    "model.add(Embedding(max_words, 128, input_length=maxlen))\n",
    "model.add(Bidirectional(LSTM(128)))\n",
    "model.add(Dense(1, activation='sigmoid'))\n",
    "model.compile(optimizer='adam',loss='mean_squared_error', metrics=['mean_squared_error'])\n",
    "model.summary()"
   ]
  },
  {
   "cell_type": "code",
   "execution_count": 30,
   "metadata": {},
   "outputs": [
    {
     "name": "stdout",
     "output_type": "stream",
     "text": [
      "Epoch 1/10\n",
      "16/16 [==============================] - 80s 5s/step - loss: 0.0780 - mean_squared_error: 0.0780 - val_loss: 0.1093 - val_mean_squared_error: 0.1093\n",
      "Epoch 2/10\n",
      "16/16 [==============================] - 65s 4s/step - loss: 0.0678 - mean_squared_error: 0.0678 - val_loss: 0.1609 - val_mean_squared_error: 0.1609\n",
      "Epoch 3/10\n",
      "16/16 [==============================] - 65s 4s/step - loss: 0.0555 - mean_squared_error: 0.0555 - val_loss: 0.0828 - val_mean_squared_error: 0.0828\n",
      "Epoch 4/10\n",
      "16/16 [==============================] - 73s 5s/step - loss: 0.0349 - mean_squared_error: 0.0349 - val_loss: 0.1336 - val_mean_squared_error: 0.1336\n",
      "Epoch 5/10\n",
      "16/16 [==============================] - 74s 5s/step - loss: 0.0215 - mean_squared_error: 0.0215 - val_loss: 0.0919 - val_mean_squared_error: 0.0919\n",
      "Epoch 6/10\n",
      "16/16 [==============================] - 70s 4s/step - loss: 0.0131 - mean_squared_error: 0.0131 - val_loss: 0.0725 - val_mean_squared_error: 0.0725\n",
      "Epoch 7/10\n",
      "16/16 [==============================] - 69s 4s/step - loss: 0.0087 - mean_squared_error: 0.0087 - val_loss: 0.0870 - val_mean_squared_error: 0.0870\n",
      "Epoch 8/10\n",
      "16/16 [==============================] - 73s 5s/step - loss: 0.0059 - mean_squared_error: 0.0059 - val_loss: 0.0766 - val_mean_squared_error: 0.0766\n",
      "Epoch 9/10\n",
      "16/16 [==============================] - 74s 5s/step - loss: 0.0042 - mean_squared_error: 0.0042 - val_loss: 0.0889 - val_mean_squared_error: 0.0889\n",
      "Epoch 10/10\n",
      "16/16 [==============================] - 73s 5s/step - loss: 0.0032 - mean_squared_error: 0.0032 - val_loss: 0.0842 - val_mean_squared_error: 0.0842\n"
     ]
    }
   ],
   "source": [
    "history = model.fit(x_train, y_train, epochs=10, batch_size=128, validation_split=0.2)"
   ]
  },
  {
   "cell_type": "code",
   "execution_count": 31,
   "metadata": {},
   "outputs": [
    {
     "data": {
      "image/png": "[encoded data removed]",
      "text/plain": [
       "<Figure size 432x288 with 1 Axes>"
      ]
     },
     "metadata": {
      "needs_background": "light"
     },
     "output_type": "display_data"
    },
    {
     "data": {
      "image/png": "[encoded data removed]",
      "text/plain": [
       "<Figure size 432x288 with 1 Axes>"
      ]
     },
     "metadata": {
      "needs_background": "light"
     },
     "output_type": "display_data"
    }
   ],
   "source": [
    "import matplotlib.pyplot as plt\n",
    "%matplotlib inline \n",
    "acc = history.history['mean_squared_error']\n",
    "val_acc = history.history['val_mean_squared_error']\n",
    "loss = history.history['loss']\n",
    "val_loss = history.history['val_loss']\n",
    "\n",
    "epochs = range(len(acc))\n",
    "\n",
    "plt.plot(epochs, acc, 'bo', label='Training acc')\n",
    "plt.plot(epochs, val_acc, 'b', label='Validation acc')\n",
    "plt.title('Training and validation accuracy')\n",
    "plt.legend()\n",
    "\n",
    "plt.figure()\n",
    "\n",
    "plt.plot(epochs, loss, 'bo', label='Training loss')\n",
    "plt.plot(epochs, val_loss, 'b', label='Validation loss')\n",
    "plt.title('Training and validation loss')\n",
    "plt.legend()\n",
    "\n",
    "plt.show()"
   ]
  },
  {
   "cell_type": "code",
   "execution_count": 32,
   "metadata": {
    "scrolled": true
   },
   "outputs": [
    {
     "name": "stdout",
     "output_type": "stream",
     "text": [
      "313/313 [==============================] - 48s 154ms/step - loss: 0.0422 - mean_squared_error: 0.0422\n"
     ]
    },
    {
     "data": {
      "text/plain": [
       "[0.0421636700630188, 0.0421636700630188]"
      ]
     },
     "execution_count": 32,
     "metadata": {},
     "output_type": "execute_result"
    }
   ],
   "source": [
    "model.evaluate(x_test, y_test)"
   ]
  },
  {
   "cell_type": "code",
   "execution_count": 33,
   "metadata": {},
   "outputs": [
    {
     "name": "stdout",
     "output_type": "stream",
     "text": [
      "[0.12262642]\n",
      "[0.38519293]\n",
      "[0.5834906]\n",
      "[0.7835212]\n",
      "[0.9278859]\n",
      "[0.9945991]\n",
      "                 0\n",
      "count  10000.00000\n",
      "mean       3.30650\n",
      "std        1.24214\n",
      "min        1.00000\n",
      "25%        2.00000\n",
      "50%        3.00000\n",
      "75%        4.00000\n",
      "max        5.00000\n"
     ]
    },
    {
     "data": {
      "text/plain": [
       "0.4281"
      ]
     },
     "execution_count": 33,
     "metadata": {},
     "output_type": "execute_result"
    }
   ],
   "source": [
    "train_pred = model.predict(x_train)\n",
    "train_pred = np.reshape(train_pred, (2500,1))\n",
    "train_pred = np.sort(train_pred, axis = 0)\n",
    "print(train_pred[0])\n",
    "print(train_pred[499])\n",
    "print(train_pred[999])\n",
    "print(train_pred[1499])\n",
    "print(train_pred[1999])\n",
    "print(train_pred[2499])\n",
    "max1 = train_pred[499]\n",
    "max2 = train_pred[999]\n",
    "max3 = train_pred[1499]\n",
    "max4 = train_pred[1999]\n",
    "\n",
    "pred = model.predict(x_test)\n",
    "pred = np.where(pred < max1, 1, np.where(pred < max2, 2, np.where(pred < max3, 3, np.where(pred < max4, 4, 5))))\n",
    "print(pd.DataFrame(pred).describe())\n",
    "print(accuracy_score(newstars, pred))\n",
    "print(f1_score(newstars,pred, average = 'macro'))\n",
    "print(f1_score(newstars,pred, average = 'weighted'))"
   ]
  },
  {
   "cell_type": "code",
   "execution_count": 34,
   "metadata": {},
   "outputs": [
    {
     "name": "stdout",
     "output_type": "stream",
     "text": [
      "                 0\n",
      "count  2500.000000\n",
      "mean      3.000000\n",
      "std       1.414496\n",
      "min       1.000000\n",
      "25%       2.000000\n",
      "50%       3.000000\n",
      "75%       4.000000\n",
      "max       5.000000\n",
      "                  0\n",
      "count  10000.000000\n",
      "mean       3.777500\n",
      "std        1.214636\n",
      "min        1.000000\n",
      "25%        3.000000\n",
      "50%        4.000000\n",
      "75%        5.000000\n",
      "max        5.000000\n"
     ]
    }
   ],
   "source": [
    "print(pd.DataFrame(5 * y_train).describe())\n",
    "print(pd.DataFrame(5*y_test).describe())"
   ]
  },
  {
   "cell_type": "code",
   "execution_count": 151,
   "metadata": {},
   "outputs": [
    {
     "data": {
      "text/html": [
       "<div>\n",
       "<style scoped>\n",
       "    .dataframe tbody tr th:only-of-type {\n",
       "        vertical-align: middle;\n",
       "    }\n",
       "\n",
       "    .dataframe tbody tr th {\n",
       "        vertical-align: top;\n",
       "    }\n",
       "\n",
       "    .dataframe thead th {\n",
       "        text-align: right;\n",
       "    }\n",
       "</style>\n",
       "<table border=\"1\" class=\"dataframe\">\n",
       "  <thead>\n",
       "    <tr style=\"text-align: right;\">\n",
       "      <th></th>\n",
       "      <th>stars</th>\n",
       "      <th>useful</th>\n",
       "      <th>funny</th>\n",
       "      <th>cool</th>\n",
       "    </tr>\n",
       "  </thead>\n",
       "  <tbody>\n",
       "    <tr>\n",
       "      <th>count</th>\n",
       "      <td>100000.000000</td>\n",
       "      <td>100000.000000</td>\n",
       "      <td>100000.000000</td>\n",
       "      <td>100000.000000</td>\n",
       "    </tr>\n",
       "    <tr>\n",
       "      <th>mean</th>\n",
       "      <td>3.842910</td>\n",
       "      <td>0.898980</td>\n",
       "      <td>0.257180</td>\n",
       "      <td>0.347030</td>\n",
       "    </tr>\n",
       "    <tr>\n",
       "      <th>std</th>\n",
       "      <td>1.354729</td>\n",
       "      <td>2.205186</td>\n",
       "      <td>1.010212</td>\n",
       "      <td>1.066382</td>\n",
       "    </tr>\n",
       "    <tr>\n",
       "      <th>min</th>\n",
       "      <td>1.000000</td>\n",
       "      <td>0.000000</td>\n",
       "      <td>0.000000</td>\n",
       "      <td>0.000000</td>\n",
       "    </tr>\n",
       "    <tr>\n",
       "      <th>25%</th>\n",
       "      <td>3.000000</td>\n",
       "      <td>0.000000</td>\n",
       "      <td>0.000000</td>\n",
       "      <td>0.000000</td>\n",
       "    </tr>\n",
       "    <tr>\n",
       "      <th>50%</th>\n",
       "      <td>4.000000</td>\n",
       "      <td>0.000000</td>\n",
       "      <td>0.000000</td>\n",
       "      <td>0.000000</td>\n",
       "    </tr>\n",
       "    <tr>\n",
       "      <th>75%</th>\n",
       "      <td>5.000000</td>\n",
       "      <td>1.000000</td>\n",
       "      <td>0.000000</td>\n",
       "      <td>0.000000</td>\n",
       "    </tr>\n",
       "    <tr>\n",
       "      <th>max</th>\n",
       "      <td>5.000000</td>\n",
       "      <td>320.000000</td>\n",
       "      <td>98.000000</td>\n",
       "      <td>49.000000</td>\n",
       "    </tr>\n",
       "  </tbody>\n",
       "</table>\n",
       "</div>"
      ],
      "text/plain": [
       "               stars         useful          funny           cool\n",
       "count  100000.000000  100000.000000  100000.000000  100000.000000\n",
       "mean        3.842910       0.898980       0.257180       0.347030\n",
       "std         1.354729       2.205186       1.010212       1.066382\n",
       "min         1.000000       0.000000       0.000000       0.000000\n",
       "25%         3.000000       0.000000       0.000000       0.000000\n",
       "50%         4.000000       0.000000       0.000000       0.000000\n",
       "75%         5.000000       1.000000       0.000000       0.000000\n",
       "max         5.000000     320.000000      98.000000      49.000000"
      ]
     },
     "execution_count": 151,
     "metadata": {},
     "output_type": "execute_result"
    }
   ],
   "source": [
    "newdata = pd.read_json('yelp_academic_dataset_review.json', lines = True, encoding_errors = 'ignore', nrows = 100000)\n",
    "newdata.describe()"
   ]
  },
  {
   "cell_type": "code",
   "execution_count": 152,
   "metadata": {},
   "outputs": [
    {
     "name": "stdout",
     "output_type": "stream",
     "text": [
      "144\n",
      "54\n"
     ]
    }
   ],
   "source": [
    "newtext = newdata['text'].tolist()\n",
    "newstars = newdata['stars'].tolist()\n",
    "newstars = [float(star) for star in newstars]\n",
    "\n",
    "newsequences = tokenizer.texts_to_sequences(newtext)\n",
    "print(len(newsequences[1]))\n",
    "print(len(newsequences[2]))\n",
    "newdata_input = pad_sequences(newsequences, maxlen = maxlen)"
   ]
  },
  {
   "cell_type": "code",
   "execution_count": 153,
   "metadata": {},
   "outputs": [
    {
     "name": "stdout",
     "output_type": "stream",
     "text": [
      "[[   0    0    0 ...   32  400 5862]\n",
      " [   0    0    0 ... 2919   11 1144]\n",
      " [   0    0    0 ...    5    1  512]\n",
      " ...\n",
      " [   0    0    0 ...   17 1700 1357]\n",
      " [   0    0    0 ...  172   66 2091]\n",
      " [   0    0    0 ...  521   50   65]]\n",
      "[0.6 1.  0.6 1.  0.8 0.2 1.  1.  0.6 0.6]\n"
     ]
    }
   ],
   "source": [
    "newdata_labels = np.asarray(newstars)\n",
    "newdata_labels = newdata_labels/5\n",
    "newdata_input = np.asarray(newdata_input)\n",
    "#newdata_labels = np.where(newdata_labels < 0.21, 0.2, np.where(newdata_labels < 0.41, 0.4, np.where(newdata_labels < 0.61, 0.6, np.where(newdata_labels < 0.81, 0.8, 1.0))))\n",
    "print(newdata_input[:10])\n",
    "print(newdata_labels[:10])"
   ]
  },
  {
   "cell_type": "code",
   "execution_count": 154,
   "metadata": {},
   "outputs": [
    {
     "name": "stdout",
     "output_type": "stream",
     "text": [
      "                   0\n",
      "count  100000.000000\n",
      "mean        3.343020\n",
      "std         1.250157\n",
      "min         1.000000\n",
      "25%         2.000000\n",
      "50%         3.000000\n",
      "75%         4.000000\n",
      "max         5.000000\n",
      "0.3465\n",
      "0.3246084254092899\n",
      "0.376561974012492\n"
     ]
    }
   ],
   "source": [
    "pred = model.predict(newdata_input)\n",
    "pred = np.where(pred < max1, 1, np.where(pred < max2, 2, np.where(pred < max3, 3, np.where(pred < max4, 4, 5))))\n",
    "print(pd.DataFrame(pred).describe())\n",
    "print(accuracy_score(newstars, pred))\n",
    "print(f1_score(newstars,pred, average = 'macro'))\n",
    "print(f1_score(newstars,pred, average = 'weighted'))\n"
   ]
  },
  {
   "cell_type": "code",
   "execution_count": 162,
   "metadata": {},
   "outputs": [
    {
     "data": {
      "image/png": "[encoded data removed]",
      "text/plain": [
       "<Figure size 432x288 with 1 Axes>"
      ]
     },
     "metadata": {
      "needs_background": "light"
     },
     "output_type": "display_data"
    }
   ],
   "source": [
    "corr = [0,0,0,0,0,0]\n",
    "tot = [0,0,0,0,0,0]\n",
    "for i in range(len(pred)):\n",
    "    if newstars[i] == pred[i]:\n",
    "        corr[int(newstars[i])] += 1\n",
    "    tot[int(newstars[i])] += 1\n",
    "    \n",
    "plt.plot(np.asarray(corr)/np.asarray(tot))\n",
    "plt.ylabel('Accuracy')\n",
    "plt.xlabel('Actual Rating')\n",
    "plt.show()"
   ]
  }
 ],
 "metadata": {
  "kernelspec": {
   "display_name": "Python 3 (ipykernel)",
   "language": "python",
   "name": "python3"
  },
  "language_info": {
   "codemirror_mode": {
    "name": "ipython",
    "version": 3
   },
   "file_extension": ".py",
   "mimetype": "text/x-python",
   "name": "python",
   "nbconvert_exporter": "python",
   "pygments_lexer": "ipython3",
   "version": "3.9.7"
  }
 },
 "nbformat": 4,
 "nbformat_minor": 2
}
